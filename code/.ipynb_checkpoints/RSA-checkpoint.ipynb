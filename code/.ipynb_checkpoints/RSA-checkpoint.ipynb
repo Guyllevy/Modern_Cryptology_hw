{
 "cells": [
  {
   "cell_type": "markdown",
   "id": "156d3734",
   "metadata": {},
   "source": [
    "Textbook RSA\n",
    "\n",
    "Keygen($1^n$):\n",
    "1. Choose two random n-bit primes $P,Q$ and set $N = P \\cdot Q$.\n",
    "2. Fix e such that $gcd(e,\\phi(N)) = 1$.\n",
    "3. Find d such that $d \\cdot e = 1 mod \\phi(N)$.\n",
    "\n",
    "Public key $(e,N)$<br>\n",
    "Private key $(d,N)$\n"
   ]
  },
  {
   "cell_type": "markdown",
   "id": "a1ef0f82",
   "metadata": {},
   "source": [
    "messages are assumed to be in $\\mathbb{Z}_n$\n",
    "\n",
    "$$Enc_{e,N}(m) = m^e (mod N)$$\n",
    "$$Dec_{d,N}(c) = c^d (mod N)$$\n",
    "\n"
   ]
  },
  {
   "cell_type": "markdown",
   "id": "31ba2351",
   "metadata": {},
   "source": [
    "$$Dec_{d,N}(Enc_{e,N}(m)) = (m^e)^d (mod N) = m$$ dont know why"
   ]
  },
  {
   "cell_type": "code",
   "execution_count": 1,
   "id": "6aec29e4",
   "metadata": {},
   "outputs": [],
   "source": [
    "from random import randint\n",
    "import math\n",
    "\n",
    "def fast_mod_exp(g,x,N):\n",
    "    if x == 0:\n",
    "        return 1\n",
    "    if x == 1:\n",
    "        return g\n",
    "    return ( fast_mod_exp((g**2)%N, x//2, N) * fast_mod_exp(g, x%2, N) ) % N\n",
    "\n",
    "def extended_gcd(a, b):\n",
    "    if b == 0:\n",
    "        return a, 1, 0\n",
    "    \n",
    "    gcd, x1, y1 = extended_gcd(b, a % b)\n",
    "    x = y1\n",
    "    y = x1 - (a // b) * y1\n",
    "    return gcd, x, y\n",
    "\n",
    "def is_prime(n):\n",
    "    if n <= 1:\n",
    "        return False\n",
    "    elif n == 2:\n",
    "        return True\n",
    "    if n % 2 == 0:\n",
    "        return False\n",
    "    for m in range(3, math.ceil(math.sqrt(n)) + 1,2):\n",
    "        if n % m == 0:\n",
    "            return False\n",
    "    return True\n",
    "    \n",
    "def gen_nbit_P(n):\n",
    "    while True:\n",
    "        p = randint(3,2**n)\n",
    "        if is_prime(p):\n",
    "            return p\n",
    "    \n",
    "def gen_N(pq_bits=48):\n",
    "    P, Q = gen_nbit_P(pq_bits),gen_nbit_P(pq_bits)\n",
    "    N = P*Q\n",
    "    return(N,P,Q)\n",
    "\n",
    "def phi_of_N(P,Q):\n",
    "    return (P-1)*(Q-1)\n",
    "\n",
    "def gen_public_key(N,P,Q): # find e such that gcd(e,phi(N)) = 1\n",
    "    e = 3 \n",
    "    return e,N\n",
    "\n",
    "def gen_private_key(N,P,Q,e): # find d such that d*e mod phi(N) = 1\n",
    "    phi = phi_of_N(P,Q)\n",
    "    gcd,d,k = extended_gcd(e,phi) # d*e + k*phi = 1 ==> d*e (mod phi) = 1 as wanted\n",
    "    print(gcd)\n",
    "    assert(gcd == 1)\n",
    "    if d < 0:\n",
    "        d += phi\n",
    "    return d, N"
   ]
  },
  {
   "cell_type": "code",
   "execution_count": 2,
   "id": "0727c283",
   "metadata": {},
   "outputs": [
    {
     "name": "stdout",
     "output_type": "stream",
     "text": [
      "(22002617565127505488050578953, 218838663334523, 100542642830411)\n",
      "1\n",
      "e=3\n",
      "d=14668411710084790737829609347\n"
     ]
    }
   ],
   "source": [
    "n = 48 # bits\n",
    "N,P,Q = gen_N(n)\n",
    "while phi_of_N(P,Q) % 3 == 0:\n",
    "    N,P,Q = gen_N()\n",
    "    \n",
    "print((N,P,Q))\n",
    "e, _ = gen_public_key(N,P,Q)\n",
    "d, _ = gen_private_key(N,P,Q,e)\n",
    "print(f\"{e=}\")\n",
    "print(f\"{d=}\")"
   ]
  },
  {
   "cell_type": "code",
   "execution_count": 3,
   "id": "14962157",
   "metadata": {},
   "outputs": [
    {
     "name": "stdout",
     "output_type": "stream",
     "text": [
      "103771193132039\n",
      "8411659036961893657950323389\n",
      "103771193132039\n",
      "success!\n"
     ]
    }
   ],
   "source": [
    "from random import randint\n",
    "\n",
    "message = randint(1, 2**n)\n",
    "print(message)\n",
    "\n",
    "cipher = fast_mod_exp(message,e,N)\n",
    "print(cipher)\n",
    "\n",
    "decoded = fast_mod_exp(cipher,d,N)\n",
    "print(decoded)\n",
    "\n",
    "if message == decoded:\n",
    "    print(\"success!\")\n",
    "else:\n",
    "    print(\"fail\")"
   ]
  }
 ],
 "metadata": {
  "kernelspec": {
   "display_name": "Python 3 (ipykernel)",
   "language": "python",
   "name": "python3"
  },
  "language_info": {
   "codemirror_mode": {
    "name": "ipython",
    "version": 3
   },
   "file_extension": ".py",
   "mimetype": "text/x-python",
   "name": "python",
   "nbconvert_exporter": "python",
   "pygments_lexer": "ipython3",
   "version": "3.11.0"
  }
 },
 "nbformat": 4,
 "nbformat_minor": 5
}
