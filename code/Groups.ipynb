{
 "cells": [
  {
   "cell_type": "code",
   "execution_count": 7,
   "id": "e0cf4bca",
   "metadata": {},
   "outputs": [],
   "source": [
    "import math\n",
    "\n",
    "class Group():\n",
    "    def __init__():\n",
    "        pass"
   ]
  },
  {
   "cell_type": "code",
   "execution_count": 33,
   "id": "c61de8d1",
   "metadata": {},
   "outputs": [],
   "source": [
    "class Z_n(Group):\n",
    "    def __init__(self,n):\n",
    "        self.n = n\n",
    "        self.set = {a for a in range(1,n) if math.gcd(a,n) == 1}\n",
    "        \n",
    "    def __contains__(self,a):\n",
    "        return a in self.set\n",
    "    \n",
    "    def __len__(self):\n",
    "        return len(self.set)\n",
    "    \n",
    "    \n",
    "    "
   ]
  },
  {
   "cell_type": "code",
   "execution_count": 34,
   "id": "114ea4f9",
   "metadata": {},
   "outputs": [],
   "source": [
    "Z11 = Z_n(11)\n",
    "Z10 = Z_n(10)"
   ]
  },
  {
   "cell_type": "code",
   "execution_count": 35,
   "id": "65297dbc",
   "metadata": {},
   "outputs": [
    {
     "name": "stdout",
     "output_type": "stream",
     "text": [
      "True\n",
      "True\n"
     ]
    }
   ],
   "source": [
    "print(9 in Z11)\n",
    "print(9 in Z10)"
   ]
  },
  {
   "cell_type": "code",
   "execution_count": 36,
   "id": "a9c09c73",
   "metadata": {},
   "outputs": [
    {
     "name": "stdout",
     "output_type": "stream",
     "text": [
      "4\n"
     ]
    }
   ],
   "source": [
    "print(len(Z10))"
   ]
  },
  {
   "cell_type": "code",
   "execution_count": 32,
   "id": "ded0a914",
   "metadata": {},
   "outputs": [
    {
     "data": {
      "text/plain": [
       "2.718281828459045"
      ]
     },
     "execution_count": 32,
     "metadata": {},
     "output_type": "execute_result"
    }
   ],
   "source": [
    "math.e"
   ]
  },
  {
   "cell_type": "code",
   "execution_count": null,
   "id": "04497acc",
   "metadata": {},
   "outputs": [],
   "source": []
  }
 ],
 "metadata": {
  "kernelspec": {
   "display_name": "Python 3 (ipykernel)",
   "language": "python",
   "name": "python3"
  },
  "language_info": {
   "codemirror_mode": {
    "name": "ipython",
    "version": 3
   },
   "file_extension": ".py",
   "mimetype": "text/x-python",
   "name": "python",
   "nbconvert_exporter": "python",
   "pygments_lexer": "ipython3",
   "version": "3.11.0"
  }
 },
 "nbformat": 4,
 "nbformat_minor": 5
}
