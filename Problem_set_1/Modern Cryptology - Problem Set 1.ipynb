{
 "cells": [
  {
   "cell_type": "markdown",
   "id": "de71dee1",
   "metadata": {},
   "source": [
    "Modern Cryptology - Problem Set 1. name: Guy Levy. ID: 206865362."
   ]
  },
  {
   "cell_type": "markdown",
   "id": "3dc885d2",
   "metadata": {},
   "source": [
    "1: GCD\n",
    "======================="
   ]
  },
  {
   "cell_type": "markdown",
   "id": "04448dec",
   "metadata": {},
   "source": [
    "**1.1 Facts about gcd**<br>\n",
    "1. $gcd(an + b, n) = gcd(b,n)$:<br><br>\n",
    "$gcd(an+b,n) = max\\{x : x|an+b \\wedge x|n\\} =^{(*)} max\\{x : x|b \\wedge x|n\\} = gcd(b,n)$ <br>\n",
    "explanation of (*): we shall prove: $x|an+b \\wedge x|n \\iff x|b \\wedge x|n$:<br><br>\n",
    "($\\Rightarrow$) $x|an+b \\wedge x|n$<br>\n",
    "$\\Rightarrow$ there exists $c,d \\in \\mathbb{Z}$ such that $cx = an+b \\wedge dx = n$<br>\n",
    "$\\Rightarrow cx = adx +b$<br>\n",
    "$\\Rightarrow (c - ad)x = b$<br>\n",
    "$\\Rightarrow x|b$<br>\n",
    "$\\Rightarrow x|b \\wedge x|n$<br><br>\n",
    "($\\Leftarrow$) $x|b \\wedge x|n$<br>\n",
    "$\\Rightarrow$ there exists $c,d \\in \\mathbb{Z}$ such that $cx = b \\wedge dx = n$<br>\n",
    "$\\Rightarrow$ for any $a \\in \\mathbb{Z} : an+b = adx+cx = (ad+c)x$<br>\n",
    "$\\Rightarrow$ $x|an+b \\wedge x|b$<br><br>\n",
    "\n",
    "2. $gcd(a,n) | gcd(ab,n)$:<br>\n",
    "An equivalent way of defining $gcd(ab,n)$ is the number in the set { $ x : x|ab \\wedge x|n $ }<br>\n",
    "such that every other member $d$ of this set divides it.<br>\n",
    "All common divisors of ab, n divide gcd(ab,n).<br>\n",
    "$gcd(a,n)$ is a divisor of $ab, n$, so as such it divides their gcd and so we get what we wanted to prove.<br><br>\n",
    "\n",
    "3. Let $p \\in \\mathbb{Z}$ be a prime number. If $p|ab$ then $p|a$ or $p|b$:<br>\n",
    "$a,b$ can be represented as products of primes.<br>\n",
    "So we denote:<br>\n",
    "$ a = \\Pi p_i^{k_i}, b = \\Pi p_i^{m_i}, \\Rightarrow ab = \\Pi p_i^{k_i+m_i}$.<br>\n",
    "Assume p is the $j$th prime.<br>\n",
    "From $p|ab$ it folllows $k_j + m_j > 1$.<br>\n",
    "Remember $\\forall i \\in \\mathbb{N} : k_i,m_i \\in \\mathbb{N}$ so it follows that $m_j > 1 \\lor k_j > 1 $. <br>\n",
    "So $p|a \\lor p|b$.<br><br>\n",
    "\n",
    "4. $gcd(a,n) = gcd(b,n) = 1 \\Rightarrow gcd(ab,n) = 1$ :<br>\n",
    "Denote $g_1 = gcd(a,n), g_2 = gcd(b,n), g_3 = gcd(ab,n)$.<br>\n",
    "Assume by contradiction $g_3 > 1$.<br>\n",
    "$g_3|ab \\wedge g_3|n$.<br>\n",
    "$\\Rightarrow$ There exists a prime p such that $p|g_3$ so $p|ab$ and $p|n$.<br>\n",
    "$\\Rightarrow$ $(p|a \\lor p|b) \\wedge  p|n$.<br>\n",
    "$\\Rightarrow$ $ (p|a \\wedge p|n) \\lor (p|b \\wedge p|n)$.<br>\n",
    "$\\Rightarrow$ $p|g_1 \\lor p|g_2$.<br>\n",
    "$\\Rightarrow$ $g_1 > 1 \\lor g_2 > 1$. And thats a contradiction.<br><br>"
   ]
  },
  {
   "cell_type": "markdown",
   "id": "4ee889c2",
   "metadata": {},
   "source": [
    "**1.2 extended euclidean algorithm**"
   ]
  },
  {
   "cell_type": "code",
   "execution_count": 1,
   "id": "492b598f",
   "metadata": {},
   "outputs": [],
   "source": [
    "def gcd(a,b):\n",
    "    \"\"\"     given a,b computes their gcd and x,y such that a*x + b*y = gcd. \n",
    "    returns those in the form of a tuple (gcd,x,y)    \"\"\"\n",
    "    if a == b:\n",
    "        return (a,1,0)\n",
    "    elif a < b:\n",
    "        a,b = b,a\n",
    "    a0,b0 = a,b\n",
    "    if b == 0:\n",
    "        return (a,1,0)\n",
    "    if a % b == 0:\n",
    "        return (b,0,1)\n",
    "    \n",
    "    As, Bs = [a], [b]\n",
    "    Rs, Ds = [], [] # remainders, multipliers\n",
    "    \n",
    "    lastR = None\n",
    "    while lastR != 0:     # a = d*b + r ==> (a,b) = (b,r). \n",
    "        Rs.append(a % b) ; Ds.append(a // b) # saving remainders and multipliers.\n",
    "        lastR = Rs[-1]\n",
    "        As.append(b)     ; Bs.append(lastR)\n",
    "        a, b = As[-1], Bs[-1]\n",
    "    gcd = As[-1]\n",
    "    \n",
    "    # from the euclidian process we got equations and now we use them to compute x,y\n",
    "    Ds.pop()\n",
    "    y, x = 1, -Ds.pop() \n",
    "    for i in range(len(Ds)): \n",
    "        if i%2 == 0:\n",
    "            y = y - x*Ds[-1-i]\n",
    "        else:\n",
    "            x = x - y*Ds[-1-i]\n",
    "    if a0*x + b0*y == gcd:\n",
    "        return (gcd,x,y)\n",
    "    return (gcd,y,x)"
   ]
  },
  {
   "cell_type": "markdown",
   "id": "a5141b8c",
   "metadata": {},
   "source": [
    "time complexity of worst case is $log(N)$ where $N = max(a,b)$<br><br>"
   ]
  },
  {
   "cell_type": "markdown",
   "id": "d7fc64ae",
   "metadata": {},
   "source": [
    "**1.3 computing inverses in $\\mathbb{Z}_n^*$**<br><br>\n",
    "<u>Algorithm</u>: Given $a \\in \\mathbb{Z}_n^*$ we compute the Extended Euclidean Algorithm on ($a,n$), we get some result ($gcd,x,y$) and return $x$.<br><br>\n",
    "<u>Correctness</u>: We know by definition of $\\mathbb{Z}_n^*$ that $gcd(a,n) = 1$ so by applying the Extended Euclidean Algorithm on ($a,n$) we get result ($1,x,y$): $x,y \\in \\mathbb{Z}$ such that:<br>\n",
    "$ax + ny = 1$<br>\n",
    "$\\Rightarrow ax (mod n) = 1$<br>\n",
    "$\\Rightarrow$ $x$ is the inverse of $a$ by definition.<br> <br>"
   ]
  },
  {
   "cell_type": "markdown",
   "id": "827458e1",
   "metadata": {},
   "source": [
    "**1.4 $\\mathbb{Z}_n^*$ is a group**<br><br>\n",
    "<u>Closure</u>: let there be $a,b \\in \\mathbb{Z}_n^*$.<br>\n",
    "$gcd(a,n) = gcd(b,n) = 1 \\Rightarrow^{(1.1:4)} gcd(ab,n) = 1 \\Rightarrow^{(1.1:1)} gcd(ab(mod n),n) = 1$<br>\n",
    "also $0 \\le ab(mod n) \\lt n \\Rightarrow ab(mod n) \\in \\mathbb{Z}_n^*$<br><br>\n",
    "<u>Associativity</u>: let there be $a,b,c \\in \\mathbb{Z}_n^*$.<br>\n",
    "$((a * b)(mod n) * c)(mod n) = ((a*b)*c)(mod n) = (a*(b*c))(mod n) = (a*(b*c)(mod n))(mod n)$<br><br>\n",
    "<u>Identity</u>: For all $a \\in \\mathbb{Z}_n^*$ : $1*a (mod n) = a$ so $1$ is the identity.<br><br>\n",
    "<u>Inverse</u>: Follows immediatly from the correctess proof of the algorithm in (1.3).<br><br>\n"
   ]
  },
  {
   "cell_type": "markdown",
   "id": "b9634ac3",
   "metadata": {},
   "source": [
    "2: Modular Exponentiation\n",
    "======================="
   ]
  },
  {
   "cell_type": "markdown",
   "id": "dc6f06a1",
   "metadata": {},
   "source": [
    "**2.1 general groups**<br><br>\n",
    "I suggest the following algorithm.\n",
    "given g,x we return with recursion the result of $alg(g,x) = alg(g^2 , \\lfloor x/2 \\rfloor) * g^{x (mod 2)}$.<br>\n",
    "with stoping conditions of $g^1 = g$ and $g^0 = 1$.<br>\n",
    "complexity: every recursive call is doing at most 1 group operation plus some O(1) calculations. there will be at most log(x) calls.<br>\n",
    "so overall the complexity is $O( (log(x) + c)* log(|G|) ) = O(log(x) * log(|G|))$."
   ]
  },
  {
   "cell_type": "code",
   "execution_count": 2,
   "id": "aadead08",
   "metadata": {},
   "outputs": [],
   "source": [
    "class Group: # ============= not important ============\n",
    "    def __init__(self, op):\n",
    "        self.identity = 1\n",
    "        self.op = op\n",
    "    def operation(self,a,b):\n",
    "        return self.op(a,b)\n",
    "G = Group(lambda a,b: a*b)"
   ]
  },
  {
   "cell_type": "code",
   "execution_count": 3,
   "id": "320af21a",
   "metadata": {},
   "outputs": [],
   "source": [
    "def g_exp_x(G,g,x): # ========= the algorithm ============= \n",
    "    if x == 0:\n",
    "        return G.identity\n",
    "    if x == 1:\n",
    "        return g\n",
    "    return G.operation( g_exp_x(G, G.operation(g,g), x//2), g if x%2 else G.identity )"
   ]
  },
  {
   "cell_type": "markdown",
   "id": "77656b76",
   "metadata": {},
   "source": [
    "<br><br><br><br><br><br><br><br>**2.2 over $\\mathbb{Z}_n^*$**<br><br>\n",
    "The previous algorithm does exactly what is needed, further,<br>\n",
    "I will prove the same algorithm achieves the required time complexity.<br>\n",
    "Time complexity of the algorithm for general group is $O(($operation-time$) * log(|G|))$.<br>\n",
    "Now because $|\\mathbb{Z}_N^*| = N$ the time complexity we get is $O(poly(log(x), log(N)) * log(N)) = O(poly(log(x), log(N)))$<br><br>"
   ]
  },
  {
   "cell_type": "code",
   "execution_count": 4,
   "id": "1ae024a9",
   "metadata": {},
   "outputs": [
    {
     "name": "stdout",
     "output_type": "stream",
     "text": [
      "17\n"
     ]
    }
   ],
   "source": [
    "N = 25\n",
    "Z_N = Group(lambda a,b: (a*b)%N)\n",
    "print(g_exp_x(Z_N, 23, 3)) # 23^3(mod 25) == 17"
   ]
  },
  {
   "cell_type": "markdown",
   "id": "46afc524",
   "metadata": {},
   "source": [
    "3: Data Processing Inequality\n",
    "======================="
   ]
  },
  {
   "cell_type": "markdown",
   "id": "e30d68d5",
   "metadata": {},
   "source": [
    "**3.1 Statistical Distance**<br><br>\n",
    "Assume, for the sake of contradiction that: $ SD(f(X),f(Y)) > SD(X,Y) $.<br><br>\n",
    "Remember : $SD(X,Y) = max_D|adv_D(X,Y)|$.<br><br>\n",
    "Let us build $D'$ such that $adv_{D'}(X,Y) > SD(X,Y)$ and by that reach a contradiction to the maximality of $SD(X,Y)$.<br><br>\n",
    "First lets define another distinguisher $D''$:<br>\n",
    "$D''$ is the distinguisher such that $adv_{D''}(f(X),f(Y)) = SD(f(X),f(Y))$.(exists from definition of $SD$)<br><br>\n",
    "$D'$ is the distinguisher that takes distributions $X,Y$, applies $f$ on them and computes $D''$.<br><br>\n",
    "By definition of $D'$ : $$adv_{D'}(X,Y) = adv_{D''}(f(X),f(Y)) = SD(f(X),f(Y))$$<br>\n",
    "That is a contradiction because: $$adv_{D'}(X,Y) = SD(f(X),f(Y)) > SD(X,Y) = max_D|adv_D(X,Y)|$$<br><br><br>"
   ]
  },
  {
   "cell_type": "markdown",
   "id": "e16a58e4",
   "metadata": {},
   "source": [
    "<br><br><br><br><br><br><br><br><br><br>**3.2 Computational Distance**<br><br>\n",
    "$X \\approx^c Y$.<br>\n",
    "$\\Rightarrow \\forall $ PPT $ D : |Pr_{x \\leftarrow X_n}[D(x) = 1] - Pr_{x \\leftarrow Y_n}[D(x) = 1]| \\leq negl(n)$.<br>\n",
    "In particular for any $D'$ that computes $f$ on the input (which takes polynomial time) and then computes some PPT $D''$ on the result, it holds that $D'$ is PPT.<br>So it follows:<br>\n",
    "$$\\forall \\text{ PPT } D' : |Pr_{x \\leftarrow X_n}[D'(x) = 1] - Pr_{x \\leftarrow Y_n}[D'(x) = 1]| \\leq negl(n)$$<br>\n",
    "$\\Rightarrow^{(D'' \\text{defines} D')} $\n",
    "$$\\forall \\text{ PPT } D'' : |Pr_{x \\leftarrow X_n}[D'(x) = 1] - Pr_{x \\leftarrow Y_n}[D'(x) = 1]| \\leq negl(n)$$<br>\n",
    "$\\Rightarrow $\n",
    "$$\\forall \\text{ PPT } D'' : |Pr_{x \\leftarrow X_n}[D''(f(x)) = 1] - Pr_{x \\leftarrow Y_n}[D''(f(x)) = 1]| \\leq negl(n)$$<br>\n",
    "$\\Rightarrow $\n",
    "$$\\forall \\text{ PPT } D'' : |Pr_{x \\leftarrow f(X_n)}[D''(x) = 1] - Pr_{x \\leftarrow f(Y_n)}[D''(x) = 1]| \\leq negl(n)$$<br>\n",
    "$\\Rightarrow $\n",
    "$$f(X) \\approx^c f(Y)$$<br><br><br><br>"
   ]
  },
  {
   "cell_type": "markdown",
   "id": "65ee7f2c",
   "metadata": {},
   "source": [
    "4: Semantic Security for Perfect Encryption\n",
    "======================="
   ]
  },
  {
   "cell_type": "markdown",
   "id": "089f3383",
   "metadata": {},
   "source": [
    "Let there be adversary $A$.<br>\n",
    "Assume, for the sake of contradiction that there is no such \"simulator\" $S$.<br><br>\n",
    "$\\Rightarrow \\exists m_1,m_2 : A(C_1) \\not\\sim^{dist} A(C_2)$ when $C_i$ denotes $ E_K(m_i)$<br>\n",
    "( I will use the sign $\\sim^{dist}$ to denote that two random variables have the same distribution )<br>\n",
    "That is because if there was no pair $m_1,m_2$ such as that then for all $C$'s the $A(C)$'s distributes exactly the same, so an $S$ with that fixed distribution exists.<br><br>\n",
    "\n",
    "Because $A(C_1) \\not\\sim^{dist} A(C_2)$ there exists $m$ such that:\n",
    "$Pr[A(C_1) = m] \\neq Pr[A(C_2) = m]$<br><br>\n",
    "\n",
    "Let $D_m$ be a distinguisher that given $c$ answers 1 if $A(c) = m$. else it answers 0.<br><br>\n",
    "\n",
    "Then:  $|Pr_{c \\leftarrow C_1}[D_m(c) = 1] - Pr_{c \\leftarrow C_2}[D_m(c) = 1]| \\gt 0$<br><br>\n",
    "\n",
    "$\\Rightarrow C_1 \\not\\sim^{dist} C_2$<br><br>\n",
    "\n",
    "Which implies directly (using lemma from class) that $(G,E,D)$ is not perfectly secure. Thats a contradiction.<br><br>"
   ]
  },
  {
   "cell_type": "markdown",
   "id": "f3283ab0",
   "metadata": {},
   "source": [
    "5: Code Breaking\n",
    "======================="
   ]
  },
  {
   "cell_type": "markdown",
   "id": "ad8eb53e",
   "metadata": {},
   "source": [
    "**5.1 Crack the Code**<br><br>\n",
    "\n",
    "<u>plaintext</u>:\n",
    "\n",
    "talking to her he realized how easy it was to present an appearance of orthodoxy while having no grasp whatever of what orthodoxy meant in a way the world view of the party imposed itself most successfully on people incapable of understanding it they could be made to accept the most flagrant violations of reality because they never fully grasped the enormity of what was demanded of them and were not sufficiently interested in public events to notice what was happening by lack of understanding they remained sane they simply swallowed everything and what they swallowed did them no harm because it left no residue behind just as a grain of corn will pass un digested through the body of a bird as a bonus the first student to send the name of the book from which this paragraph was taken to shafik will get a bonus<br><br><br>"
   ]
  },
  {
   "cell_type": "markdown",
   "id": "a720409f",
   "metadata": {},
   "source": [
    "**5.2 Explain the Algorithm**<br><br>\n",
    "\n",
    "the plaintext was split to 4 sections of equal length, each section used a mono-alphabetic substitution cipher (permutation of letters)\n",
    "the permutations used from (plaintext to cipher) correspond to the following python dictionaries:"
   ]
  },
  {
   "cell_type": "code",
   "execution_count": 5,
   "id": "6d2dbfbb",
   "metadata": {},
   "outputs": [],
   "source": [
    "# permutation for the 1st section\n",
    "key1 = {'t': 'i', 'a': 'v', 'l': 't', 'k': 'g', 'i': 'u', 'n': 'm', 'g': 'f',\n",
    "    'o': 'z','h': 'r', 'e': 'a', 'r': 'c', 'z': 'e', 'd': 's', 'w': 'h','s': 'b',\n",
    "    'y': 'y','p': 'j', 'c': 'w', 'f': 'x', 'b': 'p', 'v': 'k', 'm': 'd', 'u': 'q'}\n",
    "# permutation for the 2nd section\n",
    "key2 = {'y': 'i', 'o': 'h', 'n': 'a', 'p': 'w', 'e': 'd', 'l': 'r', 'i': 'v',\n",
    "        'c': 'e', 'a': 'o', 'b': 'g', 'f': 'm', 'u': 'f', 'd': 'p', 'r': 's',\n",
    "        's': 't', 't': 'q', 'g': 'k', 'h': 'x', 'm': 'b', 'v': 'c', 'w': 'y'}\n",
    "# permutation for the 3rd section\n",
    "key3 = {'i': 's', 'c': 'j', 'e': 't', 'n': 'w', 't': 'e', 'l': 'l', 'y': 'h',\n",
    "        'r': 'q', 's': 'f', 'd': 'i', 'p': 'y', 'u': 'm', 'b': 'o', 'v': 'r',\n",
    "        'o': 'b', 'w': 'p', 'h': 'g', 'a': 'k', 'g': 'c', 'k': 'a', 'f': 'u', 'm': 'n'}\n",
    "# permutation for the 4th section\n",
    "key4 = {'n': 'i', 'o': 'p', 'r': 'y', 'e': 's', 's': 'd', 'i': 'x', 'd': 'k',\n",
    "        'u': 'z', 'b': 'n', 'h': 'o', 'j': 'm', 't': 'v', 'a': 'w', 'g': 'u',\n",
    "        'f': 'h', 'c': 'r', 'w': 'f', 'l': 'c', 'p': 't', 'y': 'j', 'm': 'b', 'k': 'l'}"
   ]
  },
  {
   "cell_type": "markdown",
   "id": "defa6b00",
   "metadata": {},
   "source": [
    "These can be specified using a key of about 88*4 = 352 bits ($26! \\approx 2^{88}$)."
   ]
  }
 ],
 "metadata": {
  "kernelspec": {
   "display_name": "Python 3 (ipykernel)",
   "language": "python",
   "name": "python3"
  },
  "language_info": {
   "codemirror_mode": {
    "name": "ipython",
    "version": 3
   },
   "file_extension": ".py",
   "mimetype": "text/x-python",
   "name": "python",
   "nbconvert_exporter": "python",
   "pygments_lexer": "ipython3",
   "version": "3.11.0"
  }
 },
 "nbformat": 4,
 "nbformat_minor": 5
}
