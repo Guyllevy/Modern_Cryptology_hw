{
 "cells": [
  {
   "cell_type": "code",
   "execution_count": 27,
   "id": "8080315a",
   "metadata": {},
   "outputs": [
    {
     "name": "stdout",
     "output_type": "stream",
     "text": [
      "ivtgumfizracracavtueasrzhavxyuihvxizjcaxamivmvjjavcvmwazbzcirzszpyhrutarvkumfmzfcvxjhrviakaczbhrvizcirzszpydavmiumvhvyirahzctskuahzbirajvciyudjzxasuixatbdzxixqwwaxxbqttihawdhwrdvaeowogrdhmfapdstqoapvakvqqxdiehfrpgdbopdqhoeedwqqxdbhtqmroksoaqcvhroqvhathmsdorvqigdeoftdqxdiadcdsmfrriksotwdpqxddahsbvqihmyxoqyotpdboapdphmqxdboapydsdahqtfmmsjstwelhswetqtfetiswymolsjtrtwefebwbesjtpgkepkfgkyytwswcohlkjabumwitqfekwiswcegthqtnkswtifkwtegthfsnylhfpkllbptitrtqhegswckwipgkeegthfpkllbptiisiegtnwbgkqnotjkmftseltueipysdxkzsnsoxikmzdvwdwuywxiphrpyifxcctwddzikxusdvskvoypzuovosnpkjphwnxykwdwnpizdvoshxydvdvzksivvpdsikvosiwbsphvosnpplhypbfoxrovoxdtwywuywtofwdvwlsivpdowhxlfxccusvwnpizd\n"
     ]
    }
   ],
   "source": [
    "cipher = \"\"\"ivtg umfi zrac raca vtue asrz havx yuih vxiz jcax amiv mvjj avcv mwaz bzci rzsz pyhr utar vkum fmzf cvxj hrvi akac zbhr vizc irzs zpyd avmi umvh vyir ahzc tsku ahzb iraj vciy udjz xasu ixat bdzx ixqw waxx bqtt ihaw dhwr dvae owog rdhm fapd stqo apva kvqq xdie hfrp gdbo pdqh oeed wqqx dbht qmro ksoa qcvh roqv hath msdo rvqi gdeo ftdq xdia dcds mfrr ikso twdp qxdd ahsb vqih myxo qyot pdbo apdp hmqx dboa pyds dahq tfmm sjst welh swet qtfe tisw ymol sjtr twef ebwb esjt pgke pkfg kyyt wswc ohlk jabu mwit qfek wisw cegt hqtn kswt ifkw tegt hfsn ylhf pkll bpti trtq hegs wckw ipgk eegt hfpk llbp tiis iegt nwbg kqno tjkm ftse ltue ipys dxkz snso xikm zdvw dwuy wxip hrpy ifxc ctwd dzik xusd vskv oypz uovo snpk jphw nxyk wdwn pizd vosh xydv dvzk sivv pdsi kvos iwbs phvo snpp lhyp bfox rovo xdtw ywuy wtof wdvw lsiv pdow hxlf xccu svwn pizd\"\"\"\n",
    "cipher = cipher.replace(\" \",\"\")\n",
    "print(cipher)"
   ]
  },
  {
   "cell_type": "code",
   "execution_count": 30,
   "id": "2da324cd",
   "metadata": {},
   "outputs": [],
   "source": [
    "# solution: split to 4 ( we saw jump in std when doing that )\n",
    "# then use existing online substitution cipher"
   ]
  },
  {
   "cell_type": "code",
   "execution_count": 34,
   "id": "1e64e8a5",
   "metadata": {},
   "outputs": [
    {
     "name": "stdout",
     "output_type": "stream",
     "text": [
      "ivtgumfizracracavtueasrzhavxyuihvxizjcaxamivmvjjavcvmwazbzcirzszpyhrutarvkumfmzfcvxjhrviakaczbhrvizcirzszpydavmiumvhvyirahzctskuahzbirajvciyudjzxasuixatbdzxixqwwaxxbqtt\n",
      "\n",
      "ihawdhwrdvaeowogrdhmfapdstqoapvakvqqxdiehfrpgdbopdqhoeedwqqxdbhtqmroksoaqcvhroqvhathmsdorvqigdeoftdqxdiadcdsmfrriksotwdpqxddahsbvqihmyxoqyotpdboapdphmqxdboapydsdahqtfmm\n",
      "\n",
      "sjstwelhswetqtfetiswymolsjtrtwefebwbesjtpgkepkfgkyytwswcohlkjabumwitqfekwiswcegthqtnkswtifkwtegthfsnylhfpkllbptitrtqhegswckwipgkeegthfpkllbptiisiegtnwbgkqnotjkmftseltue\n",
      "\n",
      "ipysdxkzsnsoxikmzdvwdwuywxiphrpyifxcctwddzikxusdvskvoypzuovosnpkjphwnxykwdwnpizdvoshxydvdvzksivvpdsikvosiwbsphvosnpplhypbfoxrovoxdtwywuywtofwdvwlsivpdowhxlfxccusvwnpizd\n",
      "\n"
     ]
    }
   ],
   "source": [
    "#section 1\n",
    "n = len(cipher)\n",
    "for k in range(4):\n",
    "    print(cipher[k*n//4:(k+1)*n//4],end = \"\\n\\n\")"
   ]
  },
  {
   "cell_type": "code",
   "execution_count": 46,
   "id": "11cc19e5",
   "metadata": {},
   "outputs": [
    {
     "name": "stdout",
     "output_type": "stream",
     "text": [
      "talking to her he realized how easy it was to present an appearance of or tho do by while having no grasp whatever of what or tho do by meant in away the world view of the party imposed itself most success full\n"
     ]
    }
   ],
   "source": [
    "print(\"talking to her he realized how easy it was to present an appearance of or tho do by while having no grasp whatever of what or tho do by meant in away the world view of the party imposed itself most success full\")"
   ]
  },
  {
   "cell_type": "code",
   "execution_count": 47,
   "id": "a3c659b2",
   "metadata": {},
   "outputs": [
    {
     "name": "stdout",
     "output_type": "stream",
     "text": [
      "yon people incapable of understanding it they could be made to accept the most flagrant violations of reality because they never fully grasped the enormity of what was demanded of them and were not suff\n"
     ]
    }
   ],
   "source": [
    "print(\"yon people incapable of understanding it they could be made to accept the most flagrant violations of reality because they never fully grasped the enormity of what was demanded of them and were not suff\")"
   ]
  },
  {
   "cell_type": "code",
   "execution_count": 48,
   "id": "1fa50a34",
   "metadata": {
    "scrolled": true
   },
   "outputs": [
    {
     "name": "stdout",
     "output_type": "stream",
     "text": [
      "iciently interested in public events to notice what was happening by lack of understanding they remained sane they simply swallowed everything and what they swallowed did them no harm because it left\n"
     ]
    }
   ],
   "source": [
    "print(\"iciently interested in public events to notice what was happening by lack of understanding they remained sane they simply swallowed everything and what they swallowed did them no harm because it left\")"
   ]
  },
  {
   "cell_type": "code",
   "execution_count": 49,
   "id": "af555555",
   "metadata": {},
   "outputs": [
    {
     "name": "stdout",
     "output_type": "stream",
     "text": [
      "no res i due behind just as a grain of corn will pass un digested through the body of a bird as a bonus the first student to send the name of the book from which this paragraph was taken to shafik will get a bonus\n"
     ]
    }
   ],
   "source": [
    "print(\"no res i due behind just as a grain of corn will pass un digested through the body of a bird as a bonus the first student to send the name of the book from which this paragraph was taken to shafik will get a bonus\")"
   ]
  },
  {
   "cell_type": "code",
   "execution_count": 39,
   "id": "091bc584",
   "metadata": {},
   "outputs": [
    {
     "name": "stdout",
     "output_type": "stream",
     "text": [
      "talking to her he realized how easy it was to present an appearance of or tho do by while having no grasp whatever of what or tho do by meant in away the world view of the party imposed itself most success full yon people incapable of understanding it they could be made to accept the most flagrant violations of reality because they never fully grasped the enormity of what was demanded of them and were not sufficiently interested in public events to notice what was happening by lack of understanding they remained sane they simply swallowed everything and what they swallowed did them no harm because it left no res i due behind just as a grain of corn will pass un digested through the body of a bird as a bonus the first student to send the name of the book from which this paragraph was taken to shafik will get a bonus\n"
     ]
    }
   ],
   "source": [
    "print(\"talking to her he realized how easy it was to present an appearance of or tho do by while having no grasp whatever of what or tho do by meant in away the world view of the party imposed itself most success full yon people incapable of understanding it they could be made to accept the most flagrant violations of reality because they never fully grasped the enormity of what was demanded of them and were not sufficiently interested in public events to notice what was happening by lack of understanding they remained sane they simply swallowed everything and what they swallowed did them no harm because it left no res i due behind just as a grain of corn will pass un digested through the body of a bird as a bonus the first student to send the name of the book from which this paragraph was taken to shafik will get a bonus\")"
   ]
  },
  {
   "cell_type": "code",
   "execution_count": 40,
   "id": "7b2e15a1",
   "metadata": {},
   "outputs": [],
   "source": [
    "text = \"talking to her he realized how easy it was to present an appearance of or tho do by while having no grasp whatever of what or tho do by meant in away the world view of the party imposed itself most success full yon people incapable of understanding it they could be made to accept the most flagrant violations of reality because they never fully grasped the enormity of what was demanded of them and were not sufficiently interested in public events to notice what was happening by lack of understanding they remained sane they simply swallowed everything and what they swallowed did them no harm because it left no res i due behind just as a grain of corn will pass un digested through the body of a bird as a bonus the first student to send the name of the book from which this paragraph was taken to shafik will get a bonus\""
   ]
  },
  {
   "cell_type": "code",
   "execution_count": 41,
   "id": "7233c694",
   "metadata": {},
   "outputs": [
    {
     "name": "stdout",
     "output_type": "stream",
     "text": [
      "talking to her he realized how easy it was to present an appearance of or tho do by while having no grasp whatever of what or tho do by meant in away the world view of the party imposed itself most success full yon people incapable of understanding it they could be made to accept the most flagrant violations of reality because they never fully grasped the enormity of what was demanded of them and were not sufficiently interested in public events to notice what was happening by lack of understanding they remained sane they simply swallowed everything and what they swallowed did them no harm because it left no res i due behind just as a grain of corn will pass un digested through the body of a bird as a bonus the first student to send the name of the book from which this paragraph was taken to shafik will get a bonus\n"
     ]
    }
   ],
   "source": [
    "print(text)"
   ]
  },
  {
   "cell_type": "code",
   "execution_count": 42,
   "id": "a8a45172",
   "metadata": {},
   "outputs": [
    {
     "data": {
      "text/plain": [
       "672"
      ]
     },
     "execution_count": 42,
     "metadata": {},
     "output_type": "execute_result"
    }
   ],
   "source": [
    "len(text.replace(\" \",\"\"))"
   ]
  },
  {
   "cell_type": "code",
   "execution_count": 44,
   "id": "a1246261",
   "metadata": {},
   "outputs": [
    {
     "name": "stdout",
     "output_type": "stream",
     "text": [
      "{'t': 'i', 'a': 'v', 'l': 't', 'k': 'g', 'i': 'u', 'n': 'm', 'g': 'f', 'o': 'z', 'h': 'r', 'e': 'a', 'r': 'c', 'z': 'e', 'd': 's', 'w': 'h', 's': 'x', 'y': 'y', 'p': 'j', 'c': 'w', 'f': 'b', 'b': 'p', 'v': 'k', 'm': 'd', 'u': 'q'}\n"
     ]
    }
   ],
   "source": [
    "key1 = dict()\n",
    "c = \"ivtgumfizracracavtueasrzhavxyuihvxizjcaxamivmvjjavcvmwazbzcirzszpyhrutarvkumfmzfcvxjhrviakaczbhrvizcirzszpydavmiumvhvyirahzctskuahzbirajvciyudjzxasuixatbdzxixqwwaxxbqtt\"\n",
    "text = \"talking to her he realized how easy it was to present an appearance of or tho do by while having no grasp whatever of what or tho do by meant in away the world view of the party imposed itself most success full\"\n",
    "text = text.replace(\" \",\"\")\n",
    "for i in range(len(c)):\n",
    "    key1[text[i]] = c[i]\n",
    "print(key1)"
   ]
  },
  {
   "cell_type": "code",
   "execution_count": 45,
   "id": "d746fd94",
   "metadata": {},
   "outputs": [
    {
     "name": "stdout",
     "output_type": "stream",
     "text": [
      "{'y': 'i', 'o': 'h', 'n': 'a', 'p': 'w', 'e': 'd', 'l': 'r', 'i': 'v', 'c': 'e', 'a': 'o', 'b': 'g', 'f': 'm', 'u': 'f', 'd': 'p', 'r': 's', 's': 't', 't': 'q', 'g': 'k', 'h': 'x', 'm': 'b', 'v': 'c', 'w': 'y'}\n"
     ]
    }
   ],
   "source": [
    "key1 = dict()\n",
    "c = \"ihawdhwrdvaeowogrdhmfapdstqoapvakvqqxdiehfrpgdbopdqhoeedwqqxdbhtqmroksoaqcvhroqvhathmsdorvqigdeoftdqxdiadcdsmfrriksotwdpqxddahsbvqihmyxoqyotpdboapdphmqxdboapydsdahqtfmm\"\n",
    "text = \"yon people incapable of understanding it they could be made to accept the most flagrant violations of reality because they never fully grasped the enormity of what was demanded of them and were not suff\"\n",
    "text = text.replace(\" \",\"\")\n",
    "for i in range(len(c)):\n",
    "    key1[text[i]] = c[i]\n",
    "print(key1)"
   ]
  },
  {
   "cell_type": "code",
   "execution_count": 50,
   "id": "7d6c0ddb",
   "metadata": {},
   "outputs": [
    {
     "name": "stdout",
     "output_type": "stream",
     "text": [
      "{'i': 's', 'c': 'j', 'e': 't', 'n': 'w', 't': 'e', 'l': 'l', 'y': 'h', 'r': 'q', 's': 'f', 'd': 'i', 'p': 'y', 'u': 'm', 'b': 'o', 'v': 'r', 'o': 'b', 'w': 'p', 'h': 'g', 'a': 'k', 'g': 'c', 'k': 'a', 'f': 'u', 'm': 'n'}\n"
     ]
    }
   ],
   "source": [
    "key1 = dict()\n",
    "c = \"sjstwelhswetqtfetiswymolsjtrtwefebwbesjtpgkepkfgkyytwswcohlkjabumwitqfekwiswcegthqtnkswtifkwtegthfsnylhfpkllbptitrtqhegswckwipgkeegthfpkllbptiisiegtnwbgkqnotjkmftseltue\"\n",
    "text = \"iciently interested in public events to notice what was happening by lack of understanding they remained sane they simply swallowed everything and what they swallowed did them no harm because it left\"\n",
    "text = text.replace(\" \",\"\")\n",
    "for i in range(len(c)):\n",
    "    key1[text[i]] = c[i]\n",
    "print(key1)"
   ]
  },
  {
   "cell_type": "code",
   "execution_count": 51,
   "id": "6061b580",
   "metadata": {},
   "outputs": [
    {
     "name": "stdout",
     "output_type": "stream",
     "text": [
      "{'n': 'i', 'o': 'p', 'r': 'y', 'e': 's', 's': 'd', 'i': 'x', 'd': 'k', 'u': 'z', 'b': 'n', 'h': 'o', 'j': 'm', 't': 'v', 'a': 'w', 'g': 'u', 'f': 'h', 'c': 'r', 'w': 'f', 'l': 'c', 'p': 't', 'y': 'j', 'm': 'b', 'k': 'l'}\n"
     ]
    }
   ],
   "source": [
    "key1 = dict()\n",
    "c = \"ipysdxkzsnsoxikmzdvwdwuywxiphrpyifxcctwddzikxusdvskvoypzuovosnpkjphwnxykwdwnpizdvoshxydvdvzksivvpdsikvosiwbsphvosnpplhypbfoxrovoxdtwywuywtofwdvwlsivpdowhxlfxccusvwnpizd\"\n",
    "text = \"no res i due behind just as a grain of corn will pass un digested through the body of a bird as a bonus the first student to send the name of the book from which this paragraph was taken to shafik will get a bonus\"\n",
    "text = text.replace(\" \",\"\")\n",
    "for i in range(len(c)):\n",
    "    key1[text[i]] = c[i]\n",
    "print(key1)"
   ]
  },
  {
   "cell_type": "code",
   "execution_count": null,
   "id": "045fce9a",
   "metadata": {},
   "outputs": [],
   "source": []
  }
 ],
 "metadata": {
  "kernelspec": {
   "display_name": "Python 3 (ipykernel)",
   "language": "python",
   "name": "python3"
  },
  "language_info": {
   "codemirror_mode": {
    "name": "ipython",
    "version": 3
   },
   "file_extension": ".py",
   "mimetype": "text/x-python",
   "name": "python",
   "nbconvert_exporter": "python",
   "pygments_lexer": "ipython3",
   "version": "3.11.0"
  }
 },
 "nbformat": 4,
 "nbformat_minor": 5
}
