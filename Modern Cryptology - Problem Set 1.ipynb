{
 "cells": [
  {
   "cell_type": "markdown",
   "id": "de71dee1",
   "metadata": {},
   "source": [
    "Modern Cryptology - Problem Set 1"
   ]
  },
  {
   "cell_type": "markdown",
   "id": "3dc885d2",
   "metadata": {},
   "source": [
    "1: GCD\n",
    "======================="
   ]
  },
  {
   "cell_type": "markdown",
   "id": "04448dec",
   "metadata": {},
   "source": [
    "**1.1 Facts about gcd**<br><br>\n",
    "1. $gcd(an + b, n) = gcd(b,n)$:<br>\n",
    "$gcd(an+b,n) = max\\{x : x|an+b \\wedge x|n\\} =^{(*)} max\\{x : x|b \\wedge x|n\\} = gcd(b,n)$ <br><br>\n",
    "explanation of (*):<br>\n",
    "we shall prove: $x|an+b \\wedge x|n \\iff x|b \\wedge x|n$<br><br>\n",
    "($\\Rightarrow$) $x|an+b \\wedge x|n$<br>\n",
    "$\\Rightarrow$ there exists $c,d \\in \\mathbb{Z}$ such that $cx = an+b \\wedge dx = n$<br>\n",
    "$\\Rightarrow cx = adx +b$<br>\n",
    "$\\Rightarrow (c - ad)x = b$<br>\n",
    "$\\Rightarrow x|b$<br>\n",
    "$\\Rightarrow x|b \\wedge x|n$<br><br>\n",
    "($\\Leftarrow$) $x|b \\wedge x|n$<br>\n",
    "$\\Rightarrow$ there exists $c,d \\in \\mathbb{Z}$ such that $cx = b \\wedge dx = n$<br>\n",
    "$\\Rightarrow$ for any $a \\in \\mathbb{Z} : an+b = adx+cx = (ad+c)x$<br>\n",
    "$\\Rightarrow$ $x|an+b \\wedge x|b$<br><br>\n",
    "\n",
    "2. $gcd(a,n) | gcd(ab,n)$:<br>\n",
    "An equivalent way of defining $gcd(ab,n)$ is the number in the set { $ x : x|ab \\wedge x|n $ }<br>\n",
    "such that every other member $d$ of this set divides it.<br>\n",
    "$\\Rightarrow$<br>\n",
    "All common divisors of ab, n divide gcd(ab,n).<br>\n",
    "$gcd(a,n)$ is a divisor of $ab, n$, so as such it divides their gcd and so we get what we wanted to prove.<br><br>\n",
    "\n",
    "3. Let $p \\in \\mathbb{Z}$ be a prime number. If $p|ab$ then $p|a$ or $p|b$:<br>\n",
    "$a,b$ can be represented as products of primes.<br>\n",
    "So we denote:<br>\n",
    "$ a = \\Pi p_i^{k_i}, b = \\Pi p_i^{m_i}, \\Rightarrow ab = \\Pi p_i^{k_i+m_i}$.<br>\n",
    "Assume p is the $j$th prime.<br>\n",
    "From $p|ab$ it folllows $k_j + m_j > 1$.<br>\n",
    "Remember $\\forall i \\in \\mathbb{N} : k_i,m_i \\in \\mathbb{N}$ so it follows that $m_j > 1 \\lor k_j > 1 $. <br>\n",
    "So $p|a \\lor p|b$.<br><br>\n",
    "\n",
    "4. $gcd(a,n) = gcd(b,n) = 1 \\Rightarrow gcd(ab,n) = 1$ :<br>\n",
    "Denote $g_1 = gcd(a,n), g_2 = gcd(b,n), g_3 = gcd(ab,n)$.<br>\n",
    "Assume by contradiction $g_3 > 1$.<br>\n",
    "$g_3|ab \\wedge g_3|n$.<br>\n",
    "$\\Rightarrow$ There exists a prime p such that $p|g_3$ so $p|ab$ and $p|n$.<br>\n",
    "$\\Rightarrow$ $(p|a \\lor p|b) \\wedge  p|n$.<br>\n",
    "$\\Rightarrow$ $ (p|a \\wedge p|n) \\lor (p|b \\wedge p|n)$.<br>\n",
    "$\\Rightarrow$ $p|g_1 \\lor p|g_2$.<br>\n",
    "$\\Rightarrow$ $g_1 > 1 \\lor g_2 > 1$. And thats a contradiction.<br><br>"
   ]
  },
  {
   "cell_type": "markdown",
   "id": "4ee889c2",
   "metadata": {},
   "source": [
    "**1.2 extended euclidean algorithm**"
   ]
  },
  {
   "cell_type": "code",
   "execution_count": 1,
   "id": "492b598f",
   "metadata": {},
   "outputs": [],
   "source": [
    "def gcd(a,b):\n",
    "    \"\"\"     given a,b computes their gcd and x,y such that a*x + b*y = gcd. \n",
    "    returns those in the form of a tuple (gcd,x,y)    \"\"\"\n",
    "    if a == b:\n",
    "        return (a,1,0)\n",
    "    elif a < b:\n",
    "        a,b = b,a\n",
    "    a0,b0 = a,b\n",
    "    if b == 0:\n",
    "        return (a,1,0)\n",
    "    if a % b == 0:\n",
    "        return (b,0,1)\n",
    "    \n",
    "    As, Bs = [a], [b]\n",
    "    Rs, Ds = [], [] # remainders, multipliers\n",
    "    \n",
    "    lastR = None\n",
    "    while lastR != 0:     # a = d*b + r ==> (a,b) = (b,r). \n",
    "        Rs.append(a % b) ; Ds.append(a // b) # saving remainders and multipliers for later.\n",
    "        lastR = Rs[-1]\n",
    "        As.append(b)     ; Bs.append(lastR)\n",
    "        a, b = As[-1], Bs[-1]\n",
    "    gcd = As[-1]\n",
    "    \n",
    "    # from the euclidian process we got equations and now we use them to compute x,y\n",
    "    Ds.pop()\n",
    "    y, x = 1, -Ds.pop() \n",
    "    for i in range(len(Ds)): \n",
    "        if i%2 == 0:\n",
    "            y = y - x*Ds[-1-i]\n",
    "        else:\n",
    "            x = x - y*Ds[-1-i]\n",
    "    if a0*x + b0*y == gcd:\n",
    "        return (gcd,x,y)\n",
    "    return (gcd,y,x)"
   ]
  },
  {
   "cell_type": "markdown",
   "id": "a5141b8c",
   "metadata": {},
   "source": [
    "time complexity of worst case is $log(N)$ where $N = max(a,b)$"
   ]
  },
  {
   "cell_type": "markdown",
   "id": "d7fc64ae",
   "metadata": {},
   "source": [
    "**1.3 computing inverses in $\\mathbb{Z}_n^*$**<br><br>\n",
    "<u>Algorithm</u>: Given $a \\in \\mathbb{Z}_n^*$ we compute the Extended Euclidean Algorithm on ($a,n$), we get some result ($gcd,x,y$) and return $x$.<br><br>\n",
    "<u>Correctness</u>: We know by definition of $\\mathbb{Z}_n^*$ that $gcd(a,n) = 1$ so by applying the Extended Euclidean Algorithm on ($a,n$) we get result ($1,x,y$): $x,y \\in \\mathbb{Z}$ such that:<br>\n",
    "$ax + ny = 1$<br>\n",
    "$\\Rightarrow ax (mod n) = 1$<br>\n",
    "$\\Rightarrow$ $x$ is the inverse of $a$ by definition.<br> "
   ]
  },
  {
   "cell_type": "markdown",
   "id": "827458e1",
   "metadata": {},
   "source": [
    "**1.4 $\\mathbb{Z}_n^*$ is a group**<br><br>\n",
    "<u>Closure</u>: let there be $a,b \\in \\mathbb{Z}_n^*$.<br>\n",
    "$gcd(a,n) = gcd(b,n) = 1 \\Rightarrow^{(1.1:4)} gcd(ab,n) = 1 \\Rightarrow^{(1.1:1)} gcd(ab(mod n),n) = 1$<br>\n",
    "also $0 \\le ab(mod n) \\lt n \\Rightarrow ab(mod n) \\in \\mathbb{Z}_n^*$<br><br>\n",
    "<u>Associativity</u>: let there be $a,b,c \\in \\mathbb{Z}_n^*$.<br>\n",
    "$((a * b)(mod n) * c)(mod n) = ((a*b)*c)(mod n) = (a*(b*c))(mod n) = (a*(b*c)(mod n))(mod n)$<br><br>\n",
    "<u>Identity</u>: For all $a \\in \\mathbb{Z}_n^*$ : $1*a (mod n) = a$ so $1$ is the identity.<br><br>\n",
    "<u>Inverse</u>: Follows immediatly from the correctess proof of the algorithm in (1.3).\n"
   ]
  },
  {
   "cell_type": "markdown",
   "id": "b9634ac3",
   "metadata": {},
   "source": [
    "2: Modular Exponentiation\n",
    "======================="
   ]
  },
  {
   "cell_type": "markdown",
   "id": "dc6f06a1",
   "metadata": {},
   "source": [
    "**2.1 general groups**<br><br>\n",
    "I suggest the following algorithm.\n",
    "given g,x we return with recursion the result of $alg(g = g^2 , x = \\lfloor x/2 \\rfloor) * g^{x (mod 2)}$.<br>\n",
    "with stoping conditions of $g^1 = g$ and $g^0 = 1$.<br>\n",
    "complexity: every recursive call is doing at most 1 group operation plus some O(1) calculations. there will be at most log(x) calls.<br>\n",
    "so overall the complexity is $O( (log(x) + c)* log(|G|) ) = O(log(x) * log(|G|))$."
   ]
  },
  {
   "cell_type": "code",
   "execution_count": 2,
   "id": "aadead08",
   "metadata": {},
   "outputs": [],
   "source": [
    "class Group: # ============= not important ============\n",
    "    def __init__(self, op):\n",
    "        self.identity = 1\n",
    "        self.op = op\n",
    "    def operation(self,a,b):\n",
    "        return self.op(a,b)\n",
    "G = Group(lambda a,b: a*b)"
   ]
  },
  {
   "cell_type": "code",
   "execution_count": 3,
   "id": "320af21a",
   "metadata": {},
   "outputs": [],
   "source": [
    "def g_exp_x(G,g,x): # ========= the algorithm ============= \n",
    "    if x == 0:\n",
    "        return G.identity\n",
    "    if x == 1:\n",
    "        return g\n",
    "    return G.operation( g_exp_x(G, G.operation(g,g), x//2), g if x%2 else G.identity )"
   ]
  },
  {
   "cell_type": "markdown",
   "id": "77656b76",
   "metadata": {},
   "source": [
    "**2.2 over $\\mathbb{Z}_n^*$**<br><br>\n",
    "The previous algorithm does exactly what is needed, further,<br>\n",
    "I will prove the same algorithm achieves the required time complexity.<br>\n",
    "Time complexity of the algorithm for general group is $O(($operation-time$) * log(|G|))$.<br>\n",
    "Now because $|\\mathbb{Z}_N^*| = N$ the time complexity we get is $O(poly(log(x), log(N)) * log(N)) = O(poly(log(x), log(N)))$"
   ]
  },
  {
   "cell_type": "code",
   "execution_count": 4,
   "id": "1ae024a9",
   "metadata": {},
   "outputs": [
    {
     "name": "stdout",
     "output_type": "stream",
     "text": [
      "17\n"
     ]
    }
   ],
   "source": [
    "N = 25\n",
    "Z_N = Group(lambda a,b: (a*b)%N)\n",
    "print(g_exp_x(Z_N, 23, 3)) # 23^3(mod 25) == 17"
   ]
  },
  {
   "cell_type": "markdown",
   "id": "46afc524",
   "metadata": {},
   "source": [
    "3: Data Processing Inequality\n",
    "======================="
   ]
  },
  {
   "cell_type": "markdown",
   "id": "e30d68d5",
   "metadata": {},
   "source": [
    "**3.1 Statistical Distance**<br><br>\n",
    "Assume, for the sake of contradiction that: $ SD(f(X),f(Y)) > SD(X,Y) $.<br><br>\n",
    "Remember : $SD(X,Y) = max_D|adv_D(X,Y)|$.<br><br>\n",
    "Let us build $D'$ such that $adv_{D'}(X,Y) > SD(X,Y)$ and by that reach a contradiction to the maximality of $SD(X,Y)$.<br><br>\n",
    "First lets define another distinguisher $D''$:<br>\n",
    "$D''$ is the distinguisher such that $adv_{D''}(f(X),f(Y)) = SD(f(X),f(Y))$.(exists from definition of $SD$)<br><br>\n",
    "$D'$ is the distinguisher that takes distributions $X,Y$, applies $f$ on them and computes $D''$.<br><br>\n",
    "By definition of $D'$ : $$adv_{D'}(X,Y) = adv_{D''}(f(X),f(Y)) = SD(f(X),f(Y))$$<br>\n",
    "That is a contradiction because: $$adv_{D'}(X,Y) = SD(f(X),f(Y)) > SD(X,Y) = max_D|adv_D(X,Y)|$$"
   ]
  },
  {
   "cell_type": "markdown",
   "id": "e16a58e4",
   "metadata": {},
   "source": [
    "**3.2 Computational Distance**<br><br>\n",
    "$X \\approx^c Y$.<br>\n",
    "$\\Rightarrow \\forall $ PPT $ D : |Pr_{x \\leftarrow X_n}[D(x) = 1] - Pr_{x \\leftarrow Y_n}[D(x) = 1]| \\leq negl(n)$.<br>\n",
    "In particular for any $D'$ that computes $f$ on the input (which takes polynomial time) and then computes some PPT $D''$ on the result, it holds that $D'$ is PPT.<br>So it follows:<br>\n",
    "$$\\forall \\text{ PPT } D' : |Pr_{x \\leftarrow X_n}[D'(x) = 1] - Pr_{x \\leftarrow Y_n}[D'(x) = 1]| \\leq negl(n)$$<br>\n",
    "$\\Rightarrow^{(D'' \\text{defines} D')} $\n",
    "$$\\forall \\text{ PPT } D'' : |Pr_{x \\leftarrow X_n}[D'(x) = 1] - Pr_{x \\leftarrow Y_n}[D'(x) = 1]| \\leq negl(n)$$<br>\n",
    "$\\Rightarrow $\n",
    "$$\\forall \\text{ PPT } D'' : |Pr_{x \\leftarrow X_n}[D''(f(x)) = 1] - Pr_{x \\leftarrow Y_n}[D''(f(x)) = 1]| \\leq negl(n)$$<br>\n",
    "$\\Rightarrow $\n",
    "$$\\forall \\text{ PPT } D'' : |Pr_{x \\leftarrow f(X_n)}[D''(x) = 1] - Pr_{x \\leftarrow f(Y_n)}[D''(x) = 1]| \\leq negl(n)$$<br>\n",
    "$\\Rightarrow $\n",
    "$$f(X) \\approx^c f(Y)$$"
   ]
  },
  {
   "cell_type": "code",
   "execution_count": null,
   "id": "464a67ec",
   "metadata": {},
   "outputs": [],
   "source": []
  }
 ],
 "metadata": {
  "kernelspec": {
   "display_name": "Python 3 (ipykernel)",
   "language": "python",
   "name": "python3"
  },
  "language_info": {
   "codemirror_mode": {
    "name": "ipython",
    "version": 3
   },
   "file_extension": ".py",
   "mimetype": "text/x-python",
   "name": "python",
   "nbconvert_exporter": "python",
   "pygments_lexer": "ipython3",
   "version": "3.11.0"
  }
 },
 "nbformat": 4,
 "nbformat_minor": 5
}
