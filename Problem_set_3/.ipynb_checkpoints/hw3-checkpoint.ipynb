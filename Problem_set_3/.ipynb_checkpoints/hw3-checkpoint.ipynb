{
 "cells": [
  {
   "cell_type": "markdown",
   "id": "c04288dc",
   "metadata": {},
   "source": [
    "Problem Set 3\n",
    "======================"
   ]
  },
  {
   "cell_type": "markdown",
   "id": "6ade6d41",
   "metadata": {},
   "source": [
    "1 . Public-key Encryption from QR\n",
    "=================================="
   ]
  },
  {
   "cell_type": "markdown",
   "id": "8b1b72a1",
   "metadata": {},
   "source": [
    "1 .1 QR given factorization\n",
    "---------------------------------------"
   ]
  },
  {
   "cell_type": "markdown",
   "id": "96f9f549",
   "metadata": {},
   "source": [
    "by CRT $\\mathbb{Z}_N^* \\cong \\mathbb{Z}_P^* \\times \\mathbb{Z}_Q^*$<br>\n",
    "so $x$ in $\\mathbb{Z}_N^*$ corresponds to $(x (\\text{mod} P), x (\\text{mod} Q))$ in $\\mathbb{Z}_P^* \\times \\mathbb{Z}_Q^*$.<br>\n",
    "so $x$ has root $r$ ( i.e. $r^2 \\equiv_N x$ ) if and only if $(x (\\text{mod} P), x (\\text{mod} Q))$ has root $(r (\\text{mod} P), r (\\text{mod} Q))$.<br>\n",
    "Thats true if and only if $x$ has root mod $P$ and $x$ has root mod $Q$.<br>\n",
    "Thats true if and only if $x$ is $QR(P)$ and $x$ is $QR(Q)$.<br>\n",
    "Thats true if and only if $(\\frac{x}{P}) = 1 \\wedge (\\frac{x}{Q}) = 1$.<br>\n",
    "We saw in the tutorial fast way to compute Legendre Symbol: $(\\frac{x}{P}) = x^{\\frac{P-1}{2}}$.<br><br>\n",
    "So I suggest the following algorithm:<br>\n",
    "Given $P,Q,x$ : return the boolean ( $(\\frac{x}{P}) = 1$ and $(\\frac{x}{Q}) = 1$ )<br><br>\n",
    "It is in poly(n) because $P,Q$ are n bit primes and from previous homework we can compute exponent of n bit primes in poly time.<br>"
   ]
  },
  {
   "cell_type": "markdown",
   "id": "426d705f",
   "metadata": {},
   "source": [
    "1 .2 Generating QR\n",
    "---------------------------------------"
   ]
  },
  {
   "cell_type": "markdown",
   "id": "25813782",
   "metadata": {},
   "source": [
    "Let $x \\in QNR^*(N)$. Prove that if $y \\in_R  \\mathbb{Z}_N^*$ then $y^2x \\in_R  QNR^*(N)$.<br>\n",
    "Want to prove: $\\forall t \\in QNR^*(N)$ : $Pr_{y \\leftarrow  \\mathbb{Z}_N^*}[y^2x = t] = \\frac{1}{|QNR^*(N)|}$<br>\n",
    "By CRT $\\mathbb{Z}_N^* \\cong \\mathbb{Z}_P^* \\times \\mathbb{Z}_Q^*$<br>\n",
    "<br>\n",
    "- Let $t \\in QNR^*(N)$, from CRT $t$ corresponds to  $(t (\\text{mod} P), t (\\text{mod} Q))$ in $\\mathbb{Z}_P^* \\times \\mathbb{Z}_Q^*$. And we saw in the previous question $t$ is $QNR(P)$ and $QNR(Q)$.<br>\n",
    "<br>\n",
    "- $x$ corresponds to  $(x (\\text{mod} P), x (\\text{mod} Q))$ in $\\mathbb{Z}_P^* \\times \\mathbb{Z}_Q^*$.<br>\n",
    "<br>\n",
    "- Also from CRT sampling $y$ from $\\mathbb{Z}_N^*$ is equivalent to sampling $y_P$ from $\\mathbb{Z}_P^*$ and $y_Q$ from $\\mathbb{Z}_Q^*$ ( because each unique pair $y_P,y_Q$ in $\\mathbb{Z}_P^* \\times \\mathbb{Z}_Q^*$ defines unique element $y$ from $\\mathbb{Z}_N^*$.<br>\n",
    "<br>\n",
    "\n",
    "With this continue analysis:<br>\n",
    "$$Pr_{y \\leftarrow  \\mathbb{Z}_N^*}[y^2x = t]$$\n",
    "<br>\n",
    "$$= Pr_{y_P \\leftarrow  \\mathbb{Z}_P^*, y_Q \\leftarrow  \\mathbb{Z}_Q^*}[(y (\\text{mod} P), y (\\text{mod} Q))^2(x (\\text{mod} P), x (\\text{mod} Q)) = (t (\\text{mod} P), t (\\text{mod} Q))]$$\n",
    "<br>\n",
    "$$= Pr_{y_P \\leftarrow  \\mathbb{Z}_P^*, y_Q \\leftarrow  \\mathbb{Z}_Q^*}[y_P^2x \\equiv_P t \\wedge y_Q^2x \\equiv_Q t]$$\n",
    "<br>\n",
    "$$= Pr_{y_P \\leftarrow  \\mathbb{Z}_P^*}[y_P^2x \\equiv_P t]\\cdot Pr_{y_Q \\leftarrow  \\mathbb{Z}_Q^*}[y_Q^2x \\equiv_Q t]$$\n",
    "<br>\n",
    "$$=^{(*)} \\frac{1}{|QNR(P)|} \\cdot \\frac{1}{|QNR(Q)|}$$\n",
    "<br>\n",
    "$$=^{(**)} \\frac{1}{|QNR*(N)|}$$\n",
    "<br>\n",
    "Explanation $(*)$:<br>\n",
    "<br>\n",
    "Will prove $f(x) = y_P^2x$ is a permutation from $QNR(P)$ to itself, similarly, $g(x) = y_Q^2x$ is a permutation on $QNR(Q)$.<br>\n",
    "Will show $f$ (for $g$ same proof exacly) is bijective and that $Im f \\subseteq QNR(P)$ and thus a permutation.<br>\n",
    "<br>\n",
    "Bijective: assume for the sake of contradiction $\\exists a,b \\in QNR(P)$ : $a \\neq b \\wedge y_P^2a = y_P^2b$.<br>\n",
    "From the fact that $\\mathbb{Z}_P^*$ is a field we get the immediate contradiction $a = b$.<br>\n",
    "<br>\n",
    "$Im f \\subseteq QNR(P)$: let $x \\in QNR(P)$ calculate Legendre Symbol of $y_P^2x$:<br>\n",
    "$$(y_P^2x)^{\\frac{P-1}{2}} = y_P^{P-1}x^{\\frac{P-1}{2}} = 1 \\cdot (\\frac{x}{P}) = -1 $$\n",
    "$$\\Rightarrow (\\frac{y_P^2}{P}) = -1 $$\n",
    "$$\\Rightarrow y_P^2 \\in QNR(P)$$\n",
    "<br>\n",
    "Explanation $(**)$:<br>\n",
    "<br>\n",
    "$QNR*(N)$ contains exactly the elements from $\\mathbb{Z}_N^*$ which correspond to the elements $(a,b)$ from $\\mathbb{Z}_P^* \\times \\mathbb{Z}_Q^*$ such that $(\\frac{a}{P}) = (\\frac{b}{Q}) = -1$\n"
   ]
  },
  {
   "cell_type": "markdown",
   "id": "60c641a8",
   "metadata": {},
   "source": [
    "1 .3 Public Key Encryption\n",
    "---------------------------------------"
   ]
  },
  {
   "cell_type": "markdown",
   "id": "d497a101",
   "metadata": {},
   "source": [
    "Description of scheme:<br>\n",
    "<br>\n",
    "$Gen(1^n)$: sample 2 random n-bit primes $P,Q$. assign $N = P \\cdot Q$.<br>\n",
    "Sample $ t \\in_R QNR^*(N) $. ( by sampling $t_1$'s untill $t_1 \\in QNR(P)$ and $t_2$'s untill $t_2 \\in QNR(P)$ and calculating $t \\in \\mathbb{Z}_N^*$ s.t $t \\equiv_P t_1, t \\equiv_Q t_2$).<br>\n",
    "return: $pk = (N,t), sk = (P,Q)$<br>\n",
    "<br>\n",
    "$Enc_{pk}(b)$: sample $r \\in_R \\mathbb{Z}_N^*$, return $r^2 \\cdot t^b$.<br>\n",
    "<br>\n",
    "$Dec_{sk}(c)$: if $c^{\\frac{P-1}{2}} \\equiv_P 1$ and $c^{\\frac{Q-1}{2}} \\equiv_Q 1$ return 0.<br>\n",
    "if $c^{\\frac{P-1}{2}} \\equiv_P -1$ and $c^{\\frac{Q-1}{2}} \\equiv_Q -1$ return 1.<br>"
   ]
  },
  {
   "cell_type": "markdown",
   "id": "4c8f35bd",
   "metadata": {},
   "source": [
    "Correctness:<br>\n",
    "<br>\n",
    "if b = 1\n",
    "$Dec_{sk}(Enc_{pk}(1)) = Dec_{sk}(r^2 \\cdot t^b)$<br>\n",
    "$(r^2 \\cdot t)^{\\frac{P-1}{2}} \\equiv_P r^{P-1} \\cdot t^{\\frac{P-1}{2}} = 1 \\cdot (\\frac{t}{P}) = -1$<br>\n",
    "$(r^2 \\cdot t)^{\\frac{Q-1}{2}} \\equiv_Q r^{Q-1} \\cdot t^{\\frac{Q-1}{2}} = 1 \\cdot (\\frac{t}{Q}) = -1$<br>\n",
    "$\\Rightarrow Dec_{sk}(r^2 \\cdot t) = 1 = b$<br>\n",
    "<br>\n",
    "if b = 0\n",
    "$Dec_{sk}(Enc_{pk}(0)) = Dec_{sk}(r^2)$<br>\n",
    "$(r^2)^{\\frac{P-1}{2}} \\equiv_P r^{P-1} = 1$<br>\n",
    "$(r^2)^{\\frac{Q-1}{2}} \\equiv_P r^{Q-1} = 1$<br>\n",
    "$\\Rightarrow Dec_{sk}(r^2 \\cdot t^0) = 0 = b$"
   ]
  },
  {
   "cell_type": "markdown",
   "id": "f17e7a2d",
   "metadata": {},
   "source": [
    "CPA security:<br>\n",
    "<br>\n",
    "Game: challenger: generates $pk,sk$. sends $pk$ to Adversary. Flips coin $b \\in_r \\{0,1\\}$. Sends $Enc_{pk}(b)$.<br>\n",
    "Adversay runs some polynomial time and outputs $b'$.<br>\n",
    "<br>\n",
    "Want to prove CPA security of scheme under QRP Assumption.<br>\n",
    "Will assume $\\exists A$ that wins game with non-negligible advantage.<br>\n",
    "Will use $A$ to construct distinguisher $D$ that breaks QRP. i.e. distinguishes between uniform distributions over $QR(N), QNR*(N)$. denote those distributions $X_0, X_1$ respectivly.<br>\n",
    "Given $x$, $D$ samples $r \\in_R \\mathbb{Z}_N^*$.<br>\n",
    "$D$ simulates game with $A$ as adversary and instead of some encoding gives adversary $r^2x$<br>\n",
    "If $x$ sampled from $X_1$ the setting is identical to a challenger encoding of $b = 1$.<br>\n",
    "If $x$ sampled from $X_0$ the setting is identical to a challenger encoding of $b = 0$.<br>\n",
    "$D$ decides based on $A$'s answer.<br>\n",
    "Because $A$ has a non-negligible advantage, so do $D$ and so $D$ breaks QRP.<br>"
   ]
  },
  {
   "cell_type": "markdown",
   "id": "5b35f393",
   "metadata": {},
   "source": [
    "1 .4 Malleability\n",
    "---------------------------------------"
   ]
  },
  {
   "cell_type": "markdown",
   "id": "07d34f07",
   "metadata": {},
   "source": [
    "Let $\\sigma_1,\\sigma_2$ be some boolean values.<br>\n",
    "$pk = (N,t), sk = (P,Q)$.<br>\n",
    "<br>\n",
    "$Enc_{pk}(\\sigma_1) = r^2t^{\\sigma_1} = c_1$<br>\n",
    "$Enc_{pk}(\\sigma_2) = r^2t^{\\sigma_2} = c_2$<br>\n",
    "<br>\n",
    "Claim: $Dec_{sk}(c_1 \\cdot c_2) = \\sigma_1 \\oplus \\sigma_2$.<br>\n",
    "<br>\n",
    "From the claim we get that $c_1 \\cdot c_2$ is an encryption for $\\sigma_1 \\oplus \\sigma_2$ and can be obtained efficiently using just the encryptions for $\\sigma_1,\\sigma_2$. So prove claim and done.\n",
    "<br>\n",
    "Proof of claim: $Dec_{sk}(c_1 \\cdot c_2) = ?$<br>\n",
    "<br>\n",
    "If $\\sigma_1 \\oplus \\sigma_2 = 0$ i.e. $\\sigma_1 = \\sigma_2$, denote them just $\\sigma$ for now.<br>\n",
    "Then $c_1 \\cdot c_2 = r_1^2t^{\\sigma_1}r_2^2t^{\\sigma_2} = (r_1r_2t^{\\sigma})^2 = c$<br>\n",
    "$\\Rightarrow c^{\\frac{P-1}{2}} \\equiv_P (r_1r_2t^{\\sigma})^{P-1} \\equiv_P 1$, $c^{\\frac{Q-1}{2}} = 1$<br>\n",
    "$\\Rightarrow Dec_{sk}(c_1 \\cdot c_2) = 0 = \\sigma_1 \\oplus \\sigma_2$<br>\n",
    "<br>\n",
    "Else $\\sigma_1 \\neq \\sigma_2$, and so $\\sigma_1 + \\sigma_2 = 1$<br>\n",
    "$c_1 \\cdot c_2 = r_1^2t^{\\sigma_1}r_2^2t^{\\sigma_2} = r_1^2r_2^2t^1 = c$<bt>\n",
    "$\\Rightarrow c^{\\frac{P-1}{2}} \\equiv_P (r_1r_2)^{P-1}t^1 \\equiv_P (\\frac{t}{P}) = -1$, $c^{\\frac{Q-1}{2}} = -1$<br>\n",
    "$\\Rightarrow Dec_{sk}(c_1 \\cdot c_2) = 1 = \\sigma_1 \\oplus \\sigma_2$<br>\n",
    "<br>"
   ]
  },
  {
   "cell_type": "markdown",
   "id": "e71ca685",
   "metadata": {},
   "source": [
    "1 .5 Refresh\n",
    "---------------------------------------"
   ]
  },
  {
   "cell_type": "markdown",
   "id": "0984bd76",
   "metadata": {},
   "source": [
    "Description of $Refresh(pk,c)$: assign $c_0 = Enc_{pk}(0)$, return $c_0 \\cdot c$<br>\n",
    "<br>\n",
    "(sanity check) Refresh goves valid encryption for $m$:<br>\n",
    "from 1.4: $Dec_{sk}(Refresh(pk,c)) = Dec_{sk}(c_0 \\cdot c) = m \\oplus 0 = m$<br>\n",
    "<br>\n",
    "identical distribution:<br>\n",
    "<br>\n",
    "$Enc_{pk}(m) = r^2 \\cdot t^m$<br>\n",
    "$Refresh_{pk}(c) = c \\cdot Enc_{pk}(0) = r_1^2 t^m r_2^2 t^0 = (r_1,r_2)^2 t^m$<br>\n",
    "<br>\n",
    "When $r,r_1,r_2$ all sampled from uniform distribution over $\\mathbb{Z}_N^*$.\n",
    "Left to prove: $$ R^2 t^m \\sim (R_1 \\cdot R_2)^2 t^m $$\n",
    "Enough to show: $$ R^2 \\sim (R_1 \\cdot R_2)^2 $$\n",
    "That holds because: $$ R \\sim R_1 \\cdot R_2 $$"
   ]
  },
  {
   "cell_type": "markdown",
   "id": "bd258fbe",
   "metadata": {},
   "source": []
  },
  {
   "cell_type": "markdown",
   "id": "b6093985",
   "metadata": {},
   "source": []
  },
  {
   "cell_type": "markdown",
   "id": "cdd5f3c8",
   "metadata": {},
   "source": []
  },
  {
   "cell_type": "markdown",
   "id": "bf1613be",
   "metadata": {},
   "source": []
  },
  {
   "cell_type": "markdown",
   "id": "e8a69170",
   "metadata": {},
   "source": []
  },
  {
   "cell_type": "markdown",
   "id": "ef20ff1c",
   "metadata": {},
   "source": []
  },
  {
   "cell_type": "markdown",
   "id": "6784fba2",
   "metadata": {},
   "source": []
  },
  {
   "cell_type": "markdown",
   "id": "a7e671ea",
   "metadata": {},
   "source": []
  },
  {
   "cell_type": "markdown",
   "id": "75f96c94",
   "metadata": {},
   "source": []
  },
  {
   "cell_type": "markdown",
   "id": "6391e5ff",
   "metadata": {},
   "source": []
  },
  {
   "cell_type": "markdown",
   "id": "95e7e7ee",
   "metadata": {},
   "source": []
  },
  {
   "cell_type": "markdown",
   "id": "09620551",
   "metadata": {},
   "source": []
  },
  {
   "cell_type": "markdown",
   "id": "faf52c4a",
   "metadata": {},
   "source": []
  },
  {
   "cell_type": "markdown",
   "id": "0b5814d4",
   "metadata": {},
   "source": []
  },
  {
   "cell_type": "markdown",
   "id": "487ea86a",
   "metadata": {},
   "source": []
  },
  {
   "cell_type": "markdown",
   "id": "c77ec01a",
   "metadata": {},
   "source": []
  },
  {
   "cell_type": "markdown",
   "id": "a713b907",
   "metadata": {},
   "source": []
  },
  {
   "cell_type": "markdown",
   "id": "72159ed3",
   "metadata": {},
   "source": []
  },
  {
   "cell_type": "markdown",
   "id": "58ef7a8e",
   "metadata": {},
   "source": []
  },
  {
   "cell_type": "markdown",
   "id": "1f134876",
   "metadata": {},
   "source": []
  },
  {
   "cell_type": "markdown",
   "id": "22a57f03",
   "metadata": {},
   "source": []
  },
  {
   "cell_type": "markdown",
   "id": "7d2305f2",
   "metadata": {},
   "source": []
  }
 ],
 "metadata": {
  "kernelspec": {
   "display_name": "Python 3 (ipykernel)",
   "language": "python",
   "name": "python3"
  },
  "language_info": {
   "codemirror_mode": {
    "name": "ipython",
    "version": 3
   },
   "file_extension": ".py",
   "mimetype": "text/x-python",
   "name": "python",
   "nbconvert_exporter": "python",
   "pygments_lexer": "ipython3",
   "version": "3.11.0"
  }
 },
 "nbformat": 4,
 "nbformat_minor": 5
}
