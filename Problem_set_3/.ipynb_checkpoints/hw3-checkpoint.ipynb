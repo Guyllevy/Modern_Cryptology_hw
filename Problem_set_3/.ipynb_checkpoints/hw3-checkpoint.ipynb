{
 "cells": [
  {
   "cell_type": "markdown",
   "id": "c04288dc",
   "metadata": {},
   "source": [
    "Problem Set 3\n",
    "======================"
   ]
  },
  {
   "cell_type": "markdown",
   "id": "e3f6f460",
   "metadata": {},
   "source": [
    "name: Guy Levy <br>\n",
    "id: 206865362"
   ]
  },
  {
   "cell_type": "markdown",
   "id": "6ade6d41",
   "metadata": {},
   "source": [
    "1 . Public-key Encryption from QR\n",
    "=================================="
   ]
  },
  {
   "cell_type": "markdown",
   "id": "8b1b72a1",
   "metadata": {},
   "source": [
    "1 .1 QR given factorization\n",
    "---------------------------------------"
   ]
  },
  {
   "cell_type": "markdown",
   "id": "96f9f549",
   "metadata": {},
   "source": [
    "by CRT $\\mathbb{Z}_N^* \\cong \\mathbb{Z}_P^* \\times \\mathbb{Z}_Q^*$<br>\n",
    "so $x$ in $\\mathbb{Z}_N^*$ corresponds to $(x (\\text{mod} P), x (\\text{mod} Q))$ in $\\mathbb{Z}_P^* \\times \\mathbb{Z}_Q^*$.<br>\n",
    "so $x$ has root $r$ ( i.e. $r^2 \\equiv_N x$ ) if and only if $(x (\\text{mod} P), x (\\text{mod} Q))$ has root $(r (\\text{mod} P), r (\\text{mod} Q))$.<br>\n",
    "Thats true if and only if $x$ has root mod $P$ and $x$ has root mod $Q$.<br>\n",
    "Thats true if and only if $x$ is $QR(P)$ and $x$ is $QR(Q)$.<br>\n",
    "Thats true if and only if $(\\frac{x}{P}) = 1 \\wedge (\\frac{x}{Q}) = 1$.<br>\n",
    "We saw in the tutorial fast way to compute Legendre Symbol: $(\\frac{x}{P}) = x^{\\frac{P-1}{2}}$.<br><br>\n",
    "So I suggest the following algorithm:<br>\n",
    "Given $P,Q,x$ : return the boolean ( $(\\frac{x}{P}) = 1$ and $(\\frac{x}{Q}) = 1$ )<br><br>\n",
    "It is in poly(n) because $P,Q$ are n bit primes and from previous homework we can compute exponent of n bit primes in poly time.<br>"
   ]
  },
  {
   "cell_type": "markdown",
   "id": "426d705f",
   "metadata": {},
   "source": [
    "1 .2 Generating QR\n",
    "---------------------------------------"
   ]
  },
  {
   "cell_type": "markdown",
   "id": "25813782",
   "metadata": {},
   "source": [
    "Let $x \\in QNR^*(N)$. Prove that if $y \\in_R  \\mathbb{Z}_N^*$ then $y^2x \\in_R  QNR^*(N)$.<br>\n",
    "Want to prove: $\\forall t \\in QNR^*(N)$ : $Pr_{y \\leftarrow  \\mathbb{Z}_N^*}[y^2x = t] = \\frac{1}{|QNR^*(N)|}$<br>\n",
    "By CRT $\\mathbb{Z}_N^* \\cong \\mathbb{Z}_P^* \\times \\mathbb{Z}_Q^*$<br>\n",
    "<br>\n",
    "- Let $t \\in QNR^*(N)$, from CRT $t$ corresponds to  $(t (\\text{mod} P), t (\\text{mod} Q))$ in $\\mathbb{Z}_P^* \\times \\mathbb{Z}_Q^*$. And we saw in the previous question $t$ is $QNR(P)$ and $QNR(Q)$.<br>\n",
    "<br>\n",
    "- $x$ corresponds to  $(x (\\text{mod} P), x (\\text{mod} Q))$ in $\\mathbb{Z}_P^* \\times \\mathbb{Z}_Q^*$.<br>\n",
    "<br>\n",
    "- Also from CRT sampling $y$ from $\\mathbb{Z}_N^*$ is equivalent to sampling $y_P$ from $\\mathbb{Z}_P^*$ and $y_Q$ from $\\mathbb{Z}_Q^*$ ( because each unique pair $y_P,y_Q$ in $\\mathbb{Z}_P^* \\times \\mathbb{Z}_Q^*$ defines unique element $y$ from $\\mathbb{Z}_N^*$.<br>\n",
    "<br>\n",
    "\n",
    "With this continue analysis:<br>\n",
    "$$Pr_{y \\leftarrow  \\mathbb{Z}_N^*}[y^2x = t]$$\n",
    "<br>\n",
    "$$= Pr_{y_P \\leftarrow  \\mathbb{Z}_P^*, y_Q \\leftarrow  \\mathbb{Z}_Q^*}[(y (\\text{mod} P), y (\\text{mod} Q))^2(x (\\text{mod} P), x (\\text{mod} Q)) = (t (\\text{mod} P), t (\\text{mod} Q))]$$\n",
    "<br>\n",
    "$$= Pr_{y_P \\leftarrow  \\mathbb{Z}_P^*, y_Q \\leftarrow  \\mathbb{Z}_Q^*}[y_P^2x \\equiv_P t \\wedge y_Q^2x \\equiv_Q t]$$\n",
    "<br>\n",
    "$$= Pr_{y_P \\leftarrow  \\mathbb{Z}_P^*}[y_P^2x \\equiv_P t]\\cdot Pr_{y_Q \\leftarrow  \\mathbb{Z}_Q^*}[y_Q^2x \\equiv_Q t]$$\n",
    "<br>\n",
    "$$=^{(*)} \\frac{1}{|QNR(P)|} \\cdot \\frac{1}{|QNR(Q)|}$$\n",
    "<br>\n",
    "$$=^{(**)} \\frac{1}{|QNR*(N)|}$$\n",
    "<br>\n",
    "Explanation $(*)$:<br>\n",
    "<br>\n",
    "Will prove $f(x) = y_P^2x$ is a permutation from $QNR(P)$ to itself, similarly, $g(x) = y_Q^2x$ is a permutation on $QNR(Q)$.<br>\n",
    "Will show $f$ (for $g$ same proof exacly) is bijective and that $Im f \\subseteq QNR(P)$ and thus a permutation.<br>\n",
    "<br>\n",
    "Bijective: assume for the sake of contradiction $\\exists a,b \\in QNR(P)$ : $a \\neq b \\wedge y_P^2a = y_P^2b$.<br>\n",
    "From the fact that $\\mathbb{Z}_P^*$ is a field we get the immediate contradiction $a = b$.<br>\n",
    "<br>\n",
    "$Im f \\subseteq QNR(P)$: let $x \\in QNR(P)$ calculate Legendre Symbol of $y_P^2x$:<br>\n",
    "$$(y_P^2x)^{\\frac{P-1}{2}} = y_P^{P-1}x^{\\frac{P-1}{2}} = 1 \\cdot (\\frac{x}{P}) = -1 $$\n",
    "$$\\Rightarrow (\\frac{y_P^2}{P}) = -1 $$\n",
    "$$\\Rightarrow y_P^2 \\in QNR(P)$$\n",
    "<br>\n",
    "Explanation $(**)$:<br>\n",
    "<br>\n",
    "$QNR*(N)$ contains exactly the elements from $\\mathbb{Z}_N^*$ which correspond to the elements $(a,b)$ from $\\mathbb{Z}_P^* \\times \\mathbb{Z}_Q^*$ such that $(\\frac{a}{P}) = (\\frac{b}{Q}) = -1$<br>\n",
    "<br><br><br><br>"
   ]
  },
  {
   "cell_type": "markdown",
   "id": "60c641a8",
   "metadata": {},
   "source": [
    "1 .3 Public Key Encryption\n",
    "---------------------------------------"
   ]
  },
  {
   "cell_type": "markdown",
   "id": "d497a101",
   "metadata": {},
   "source": [
    "Description of scheme:<br>\n",
    "<br>\n",
    "$Gen(1^n)$: sample 2 random n-bit primes $P,Q$. assign $N = P \\cdot Q$.<br>\n",
    "Sample $ t \\in_R QNR^*(N) $. ( by sampling $t_1$'s untill $t_1 \\in QNR(P)$ and $t_2$'s untill $t_2 \\in QNR(P)$ and calculating $t \\in \\mathbb{Z}_N^*$ s.t $t \\equiv_P t_1, t \\equiv_Q t_2$).<br>\n",
    "return: $pk = (N,t), sk = (P,Q)$<br>\n",
    "<br>\n",
    "$Enc_{pk}(b)$: sample $r \\in_R \\mathbb{Z}_N^*$, return $r^2 \\cdot t^b$.<br>\n",
    "<br>\n",
    "$Dec_{sk}(c)$: if $c^{\\frac{P-1}{2}} \\equiv_P 1$ and $c^{\\frac{Q-1}{2}} \\equiv_Q 1$ return 0.<br>\n",
    "if $c^{\\frac{P-1}{2}} \\equiv_P -1$ and $c^{\\frac{Q-1}{2}} \\equiv_Q -1$ return 1.<br>"
   ]
  },
  {
   "cell_type": "markdown",
   "id": "4c8f35bd",
   "metadata": {},
   "source": [
    "Correctness:<br>\n",
    "<br>\n",
    "if b = 1\n",
    "$Dec_{sk}(Enc_{pk}(1)) = Dec_{sk}(r^2 \\cdot t^b)$<br>\n",
    "$(r^2 \\cdot t)^{\\frac{P-1}{2}} \\equiv_P r^{P-1} \\cdot t^{\\frac{P-1}{2}} = 1 \\cdot (\\frac{t}{P}) = -1$<br>\n",
    "$(r^2 \\cdot t)^{\\frac{Q-1}{2}} \\equiv_Q r^{Q-1} \\cdot t^{\\frac{Q-1}{2}} = 1 \\cdot (\\frac{t}{Q}) = -1$<br>\n",
    "$\\Rightarrow Dec_{sk}(r^2 \\cdot t) = 1 = b$<br>\n",
    "<br>\n",
    "if b = 0\n",
    "$Dec_{sk}(Enc_{pk}(0)) = Dec_{sk}(r^2)$<br>\n",
    "$(r^2)^{\\frac{P-1}{2}} \\equiv_P r^{P-1} = 1$<br>\n",
    "$(r^2)^{\\frac{Q-1}{2}} \\equiv_P r^{Q-1} = 1$<br>\n",
    "$\\Rightarrow Dec_{sk}(r^2 \\cdot t^0) = 0 = b$<br>\n",
    "<br>\n",
    "<br>\n",
    "CPA security:<br>\n",
    "<br>\n",
    "Game: challenger: generates $pk,sk$. sends $pk$ to Adversary. Flips coin $b \\in_r \\{0,1\\}$. Sends $Enc_{pk}(b)$.<br>\n",
    "Adversay runs some polynomial time and outputs $b'$.<br>\n",
    "<br>\n",
    "Want to prove CPA security of scheme under QRP Assumption.<br>\n",
    "Will assume $\\exists A$ that wins game with non-negligible advantage.<br>\n",
    "Will use $A$ to construct distinguisher $D$ that breaks QRP. i.e. distinguishes between uniform distributions over $QR(N), QNR*(N)$. denote those distributions $X_0, X_1$ respectivly.<br>\n",
    "Given $x$, $D$ samples $r \\in_R \\mathbb{Z}_N^*$.<br>\n",
    "$D$ simulates game with $A$ as adversary and instead of some encoding gives adversary $r^2x$<br>\n",
    "If $x$ sampled from $X_1$ the setting is identical to a challenger encoding of $b = 1$.<br>\n",
    "If $x$ sampled from $X_0$ the setting is identical to a challenger encoding of $b = 0$.<br>\n",
    "$D$ decides based on $A$'s answer.<br>\n",
    "Because $A$ has a non-negligible advantage, so do $D$ and so $D$ breaks QRP.<br>"
   ]
  },
  {
   "cell_type": "markdown",
   "id": "5b35f393",
   "metadata": {},
   "source": [
    "1 .4 Malleability\n",
    "---------------------------------------"
   ]
  },
  {
   "cell_type": "markdown",
   "id": "07d34f07",
   "metadata": {},
   "source": [
    "Let $\\sigma_1,\\sigma_2$ be some boolean values.<br>\n",
    "$pk = (N,t), sk = (P,Q)$.<br>\n",
    "<br>\n",
    "$Enc_{pk}(\\sigma_1) = r^2t^{\\sigma_1} = c_1$<br>\n",
    "$Enc_{pk}(\\sigma_2) = r^2t^{\\sigma_2} = c_2$<br>\n",
    "<br>\n",
    "Claim: $Dec_{sk}(c_1 \\cdot c_2) = \\sigma_1 \\oplus \\sigma_2$.<br>\n",
    "<br>\n",
    "From the claim we get that $c_1 \\cdot c_2$ is an encryption for $\\sigma_1 \\oplus \\sigma_2$ and can be obtained efficiently using just the encryptions for $\\sigma_1,\\sigma_2$. So prove claim and done.\n",
    "<br>\n",
    "Proof of claim: $Dec_{sk}(c_1 \\cdot c_2) = ?$<br>\n",
    "<br>\n",
    "If $\\sigma_1 \\oplus \\sigma_2 = 0$ i.e. $\\sigma_1 = \\sigma_2$, denote them just $\\sigma$ for now.<br>\n",
    "Then $c_1 \\cdot c_2 = r_1^2t^{\\sigma_1}r_2^2t^{\\sigma_2} = (r_1r_2t^{\\sigma})^2 = c$<br>\n",
    "$\\Rightarrow c^{\\frac{P-1}{2}} \\equiv_P (r_1r_2t^{\\sigma})^{P-1} \\equiv_P 1$, $c^{\\frac{Q-1}{2}} = 1$<br>\n",
    "$\\Rightarrow Dec_{sk}(c_1 \\cdot c_2) = 0 = \\sigma_1 \\oplus \\sigma_2$<br>\n",
    "<br>\n",
    "Else $\\sigma_1 \\neq \\sigma_2$, and so $\\sigma_1 + \\sigma_2 = 1$<br>\n",
    "$c_1 \\cdot c_2 = r_1^2t^{\\sigma_1}r_2^2t^{\\sigma_2} = r_1^2r_2^2t^1 = c$<bt>\n",
    "$\\Rightarrow c^{\\frac{P-1}{2}} \\equiv_P (r_1r_2)^{P-1}t^1 \\equiv_P (\\frac{t}{P}) = -1$, $c^{\\frac{Q-1}{2}} = -1$<br>\n",
    "$\\Rightarrow Dec_{sk}(c_1 \\cdot c_2) = 1 = \\sigma_1 \\oplus \\sigma_2$<br>\n",
    "<br>"
   ]
  },
  {
   "cell_type": "markdown",
   "id": "e71ca685",
   "metadata": {},
   "source": [
    "1 .5 Refresh\n",
    "---------------------------------------"
   ]
  },
  {
   "cell_type": "markdown",
   "id": "0984bd76",
   "metadata": {},
   "source": [
    "Description of $Refresh(pk,c)$: assign $c_0 = Enc_{pk}(0)$, return $c_0 \\cdot c$<br>\n",
    "<br>\n",
    "(sanity check) Refresh goves valid encryption for $m$:<br>\n",
    "from 1.4: $Dec_{sk}(Refresh(pk,c)) = Dec_{sk}(c_0 \\cdot c) = m \\oplus 0 = m$<br>\n",
    "<br>\n",
    "identical distribution:<br>\n",
    "<br>\n",
    "$Enc_{pk}(m) = r^2 \\cdot t^m$<br>\n",
    "$Refresh_{pk}(c) = c \\cdot Enc_{pk}(0) = r_1^2 t^m r_2^2 t^0 = (r_1,r_2)^2 t^m$<br>\n",
    "<br>\n",
    "When $r,r_1,r_2$ all sampled from uniform distribution over $\\mathbb{Z}_N^*$.\n",
    "Left to prove: $$ R^2 t^m \\sim (R_1 \\cdot R_2)^2 t^m $$\n",
    "Enough to show: $$ R^2 \\sim (R_1 \\cdot R_2)^2 $$\n",
    "That holds because: $$ R \\sim R_1 \\cdot R_2 $$"
   ]
  },
  {
   "cell_type": "markdown",
   "id": "bd258fbe",
   "metadata": {},
   "source": [
    "2 . Statistically Hiding Commitments\n",
    "=================================="
   ]
  },
  {
   "cell_type": "markdown",
   "id": "b6093985",
   "metadata": {},
   "source": [
    "2 .1 Inner Product with Random String\n",
    "---------------------------------------"
   ]
  },
  {
   "cell_type": "markdown",
   "id": "cdd5f3c8",
   "metadata": {},
   "source": [
    "Let $b \\in \\{0,1\\}^n$, $b \\neq \\overrightarrow{0}$.<br>\n",
    "Let $A_0 = \\{ a \\in \\{0,1\\}^n | <a,b> = 0\\}$, $A_1 = \\{ a \\in \\{0,1\\}^n | <a,b> = 1\\}$<br>\n",
    "<br>\n",
    "notice $A_0 \\cup A_0 = \\{0,1\\}^n$.<br>\n",
    "<br>\n",
    "Also $$ Pr_{a \\leftarrow \\{0,1\\}^n}[<a,b> = 0] = Pr_{a \\leftarrow \\{0,1\\}^n}[a \\in A_0] = \\frac{|A_0|}{|\\{0,1\\}^n|} = \\frac{|A_0|}{2^n} $$\n",
    "Similarly, $$ Pr_{a \\leftarrow \\{0,1\\}^n}[<a,b> = 1] = \\frac{|A_1|}{2^n} $$<br>\n",
    "Enough to show $|A_0|=|A_1|$, then it will follow that both probabilities are equal.<br>\n",
    "Further more, because they sum to 1, each of them gets the value of $\\frac{1}{2}$ as I was asked to prove.<br>\n",
    "<br>\n",
    "$|A_0|=|A_1|$: Will show by existance of permutation $f : A_0 \\rightarrow A_1$.<br>\n",
    "Let $j \\in [n]$ be an index in which $b_j \\neq 0$ (exists from premise $b \\neq \\overrightarrow{0}$).<br>\n",
    "<br>\n",
    "Existance of permutation $f$:<br>\n",
    "<br>\n",
    "Defining $f$: $f(a) = a'$ such that  $a'_j = 1 - a_j$ and $\\forall i \\neq j$, $a'_i = a_i$.<br>\n",
    "<br>\n",
    "First show, for input $a$ in $A_0$: $f(a) \\in A_1$.<br>\n",
    "$a \\in A_0$<br>\n",
    "$\\Rightarrow <a,b> = 0$<br>\n",
    "$\\Rightarrow \\sum_i^n a_i b_i (mod 2) = 0$<br>\n",
    "$\\Rightarrow <a',b> = \\sum_i^n (a_i b_i) - a_j b_j + (1 - a_j) b_j \\equiv_2 -2 a_j b_j + 1 \\equiv_2 1 $<br>\n",
    "$\\Rightarrow a' \\in A_1$<br>\n",
    "<br>\n",
    "$f$ is bijective: if $a_1 \\neq a_2$:<br>\n",
    "if $a_{1_j} \\neq a_{2_j}$ then $a'_{1_j} = 1 - a_{1_j} \\neq 1 - a_{2_j} = a'_{2_j}$.<br>\n",
    "else $\\exists i \\neq j$ s.t. $a_{1_i} \\neq a_{2_i}$ $\\Rightarrow$ $a'_{1_i} = a_{1_i} \\neq a_{2_i} = a'_{2_i}$<br>\n",
    "anyhow we get $a'_1 \\neq a'_2$ i.e. $f(a_1) \\neq f(a_2)$.<br>\n",
    "<br>\n",
    "$f$ onto: let $a \\in A_1$ $\\Rightarrow$ $f(a) \\in A_0$ (similarly to what we already showed).<br>\n",
    "claim $f(f(a)) = a$ : indeed flipping the $j$th bit twice makes no difference.<br>\n",
    "<br><br><br><br><br>"
   ]
  },
  {
   "cell_type": "markdown",
   "id": "bf1613be",
   "metadata": {},
   "source": [
    "2 .2 Inner Product is Pairwise Independent\n",
    "---------------------------------------"
   ]
  },
  {
   "cell_type": "markdown",
   "id": "e8a69170",
   "metadata": {},
   "source": [
    "For every $a \\in \\{0,1\\}^n$ define $h_a : \\{0,1\\}^n \\rightarrow \\{0,1\\}$ as the function $h_a(b) = <a,b>$.<br>\n",
    "Will show $\\{h_a\\}_{a \\in \\{0,1\\}^n}$ is UHF.<br>\n",
    "<br>\n",
    "Let $b_1, b_2 \\in \\{0,1\\}^n$, $b_1 \\neq b_2$<br>\n",
    "$$ Pr_{a \\leftarrow \\{0,1\\}^n}[h_a(b_1) = h_a(b_2)] = Pr_{a \\leftarrow \\{0,1\\}^n}[<a,b_1> = <a,b_2>]$$<br>\n",
    "$$ = Pr_{a \\leftarrow \\{0,1\\}^n}[a = 0 \\wedge <a,b_1> = <a,b_2>] + Pr_{a \\leftarrow \\{0,1\\}^n}[a \\neq 0 \\wedge <a,b_1> = <a,b_2>]$$<br>\n",
    "$$ = Pr_{a \\leftarrow \\{0,1\\}^n}[a = 0] + Pr_{a \\leftarrow \\{0,1\\}^n}[<a,b_1> = <a,b_2> | a \\neq 0] \\cdot Pr_{a \\leftarrow \\{0,1\\}^n}[a \\neq 0] $$<br>\n",
    "$$ = \\frac{1}{2^n} + (1 - \\frac{1}{2^n})Pr_{a \\leftarrow \\{0,1\\}^n}[<a,b_1 - b_2> = 0 | a \\neq 0]$$<br>\n",
    "$$ = \\frac{1}{2^n} + (1 - \\frac{1}{2^n})Pr_{a \\leftarrow \\{0,1\\}^n}[a \\in A_{0[b = b_1 - b_2]} | a \\neq 0]$$<br>\n",
    "$$ = \\frac{1}{2^n} + (1 - \\frac{1}{2^n})(\\frac{|A_0| - 1}{2^n - 1})$$<br>\n",
    "$$ = \\frac{1}{2^n} + (1 - \\frac{1}{2^n})(\\frac{2^{n-1} - 1}{2^n - 1})$$<br>\n",
    "$$ = \\frac{1}{2^n} + \\frac{2^{n-1} - 1}{2^n - 1} - \\frac{2^{-1} - 2^{-n}}{2^n - 1}$$<br>\n",
    "$$ = \\frac{2^{2n-1} - 2^{n-1}}{2^n (2^n - 1)}$$<br>\n",
    "$$ = \\frac{\\frac{1}{2}(2^{2n} - 2^{n})}{2^{2n} - 2^n)}$$<br>\n",
    "$$ = \\frac{1}{2} = \\frac{1}{|\\{0,1\\}|}$$<br>\n",
    "<br><br><br>"
   ]
  },
  {
   "cell_type": "markdown",
   "id": "ef20ff1c",
   "metadata": {},
   "source": [
    "2 .3 Purifying Randomness\n",
    "---------------------------------------"
   ]
  },
  {
   "cell_type": "markdown",
   "id": "6784fba2",
   "metadata": {},
   "source": [
    "$(r,<r,s>),(r,b)$ denote distributions as $(R,<R,Us>),(R,U1)$ when $R \\sim U_n$ and $Us \\sim uniform(S)$.<br>\n",
    "<br>\n",
    "Let $S \\subseteq \\{0,1\\}^n$ show $\\Delta((R,<R,Us>),(R,U1)) = O(\\sqrt{1 / |S|})$.<br>\n",
    "<br>\n",
    "From theorem mentioned in class $\\forall f : \\Delta(A,B) \\geq \\Delta(f(A),f(B))$.<br>\n",
    "<br>\n",
    "It follows immediatly that for a permutation $f$: $\\Delta(A,B) = \\Delta(f(A),f(B))$<br>\n",
    "<br>\n",
    "We saw $\\{h_r\\}_{r \\in \\{0,1\\}^n}$ is a UHF.<br>\n",
    "<br>\n",
    "Define permutation $f$ : $f(r,b) = (h_r,b)$<br>\n",
    "($f$ is a permutation: $r$ implies $h_r$ trivially and $h_r$ implies $r$ by applying $h_r(e_i)$ to get $r_i$ for all $i \\in [n]$)<br>\n",
    "<br>\n",
    "From mentioned theorem: $$\\Delta((R,<R,Us>),(R,U1)) = \\Delta((h_R,<R,Us>),(h_R,U1))$$<br>\n",
    "<br>\n",
    "From \\{h_r\\} definition: $$= \\Delta((h_R,h_R(Us)),(h_R,U1))$$<br>\n",
    "<br>\n",
    "$U_s$ is a K-source for $k = [log_2(|S|)]$, from LHL we get:<br>\n",
    "$$ \\leq \\frac{1}{2} \\sqrt{2^{1-log_2(|S|)}} = \\frac{\\sqrt{2}}{2} \\sqrt{1 / |S|} = O(\\sqrt{1 / |S|}) $$"
   ]
  },
  {
   "cell_type": "markdown",
   "id": "a7e671ea",
   "metadata": {},
   "source": [
    "2 .4 Commitments\n",
    "---------------------------------------"
   ]
  },
  {
   "cell_type": "markdown",
   "id": "75f96c94",
   "metadata": {},
   "source": [
    "Assume $\\exists$ CRHF $h : \\{0,1\\}^n \\rightarrow \\{0,1\\}^{n/2}$.<br>\n",
    "<br>\n",
    "Will show $C(b) = (h(s), r, <r,s> \\oplus b)$ ; $r,s \\in_R \\{0,1\\}^n$<br>\n",
    "is both statistically hiding and computationally binding.<br>\n",
    "<br>\n",
    "<u>C is statistically hiding:</u><br>\n",
    "estimate:<br>\n",
    "$$\\Delta(((h(s), r, <r,s> \\oplus 0),(h(s), r, <r,s> \\oplus 1))$$<br>\n",
    "claim: $h'(r) = (h(s_0), <r,s_0>)$ is UHF.<br>\n",
    "<br>\n",
    "proof of claim:<br>\n",
    "$$ Pr_{s_0 \\leftarrow \\{0,1\\}^n}[((h(s_0), <r_1,s_0>))=((h(s_0), <r_2,s_0>))] $$<br>\n",
    "$$ = Pr_{s_0 \\leftarrow \\{0,1\\}^n}[<r_1,s_0>=<r_2,s_0>] = \\frac{1}{2^n} $$<br>\n",
    "<br>\n",
    "So with : $R \\sim U_n$ a n-source and $h'$ an UHF, will apply LHL:<br>\n",
    "<br>\n",
    "$$\\Delta(((h(s), r, <r,s> \\oplus 0),(U_{n/2}, r, U_1))$$<br>\n",
    "$$ = \\Delta(((h(s), r, <r,s>),(U_{n/2}, r, U_1)) \\leq \\frac{1}{2} \\sqrt{2^{\\frac{n}{2} + 1 - n}} = \\frac{\\sqrt{2}}{2} 2^{\\frac{-n}{4}} = negl(n)$$<br>\n",
    "i.e. $C$ is statistically hiding.<br>\n",
    "<br>\n",
    "<u>C is computationally binding:</u><br>\n",
    "<br>\n",
    "Assume $C$ not computationally binding.<br>\n",
    "i.e. there exists $A$ that can produce $(s,r), (s',r')$ s.t. :<br>\n",
    "$ C_{r,s}(0) = C_{r',s'}(1)$ with non-negligible probability.<br>\n",
    "In particular $A$ finds $s,s'$ s.t. $h(s) = h(s')$ with non-negligible probability.<br>\n",
    "In contradiction to the assumption that $h$ is a CRHF.<br>\n",
    "So from the contradiction we get: $C$ is computationally binding.<br>\n",
    "<br><br><br><br>"
   ]
  },
  {
   "cell_type": "markdown",
   "id": "6391e5ff",
   "metadata": {},
   "source": [
    "3 . Is Factoring NP Complete\n",
    "=================================="
   ]
  },
  {
   "cell_type": "markdown",
   "id": "95e7e7ee",
   "metadata": {},
   "source": [
    "3 .1 Equivalence to Factoring\n",
    "---------------------------------------"
   ]
  },
  {
   "cell_type": "markdown",
   "id": "09620551",
   "metadata": {},
   "source": [
    "Denote $L = \\{(N,M) \\in \\mathbb{N} \\times \\mathbb{N} \\text{ | } N \\text{ has a prime factor larger than } M\\}$.<br>\n",
    "( I assumed throughout that by 'larger than' we mean > ).<br>\n",
    "<br>\n",
    "Show: can factor in poly $\\iff$ can decide L in poly.<br>\n",
    "<br>\n",
    "proof left to right $\\Rightarrow$<br>\n",
    "<br>\n",
    "Assume $\\exists$ poly $A$ s.t. given $N$ outputs $(p_1,p_2,...,p_m)$ s.t. p_1,p_2,...,p_m are the prime factors of $N$ with repitition, i.e. $N = \\Pi_{i=1}^m p_i$.<br>\n",
    "<br>\n",
    "Construct $M_L$ to decide $L$:<br>\n",
    "<br>\n",
    "Given $(N,M)$, $M_L$ runs $A(N)$ to get $(p_1,p_2,...,p_m)$.<br>\n",
    "(Should mention output is of length $O(2ml)$ when $l$ is the max length entry in output sequence.<br>\n",
    "$l = O(log(N)), m = O(log(N))$ $\\Rightarrow$ length of output is $O(log^2(N))$ which is $O(n^2)$ for $n$ length of input)<br>\n",
    "<br>\n",
    "Now $M_L$ checks if $max_i(p_i) > M$ and returns YES/NO accordingly.<br>\n",
    "<br>\n",
    "correctness: is immediate from $A$'s correctness.<br>\n",
    "time: running $A(N)$ takes poly time, running over list and checking > M for each entry is $O(length(list))$ which is also in poly.<br>\n",
    "<br>"
   ]
  },
  {
   "cell_type": "markdown",
   "id": "faf52c4a",
   "metadata": {},
   "source": [
    "proof right to left $\\Leftarrow$<br>\n",
    "Assume $\\exists$ poly $M_L$ s.t. $L(M_L) = L$.<br>\n",
    "Construct $A$ to factor in poly time.<br>\n",
    "$A$ in pseudo code:"
   ]
  },
  {
   "cell_type": "code",
   "execution_count": 2,
   "id": "032462f7",
   "metadata": {},
   "outputs": [],
   "source": [
    "def A(N):\n",
    "    factors = [] # with repititions\n",
    "    while N > 1:\n",
    "        \n",
    "        # binary search for M in 2,...,N-1 the first number M for which M_L((N,M)) = YES \n",
    "        M = search(range(2,N))\n",
    "        \n",
    "        factors.append(M)\n",
    "        N = N/M"
   ]
  },
  {
   "cell_type": "markdown",
   "id": "487ea86a",
   "metadata": {},
   "source": [
    "correctness:<br>\n",
    "Let $N = \\Pi_{i=1}^m p_i$ be the prime factorization of $N$.<br>\n",
    "Let $(p_1,p_2,...,p_m)$ be their sequence with repititions s.t. $\\forall i \\in [m-1]$ : $p_{i+1} \\leq p_i$.<br>\n",
    "Denote $N_k = \\Pi_{i=1}^k p_i$ ($N = N_m$).<br>\n",
    "<br>\n",
    "By induction will prove: in the i'th iteration the variable $N$ turn from $N_{m-i+1}$ to $N_{m-i}$ and $p_{m-i+1}$ is added to the list.<br>\n",
    "<br>\n",
    "Base: $N_m = N$<br>\n",
    "<br>\n",
    "Step: The first integer for which $M_L$ will return NO is the biggest prime to divide $N_{m-i+1}$ i.e. $p_{m-i+1}$.<br>\n",
    "Assume it returns NO before, then $p_{m-i+1} \\nmid N_{m-i+1}$ in contradiction.<br>\n",
    "Assume it does not return YES for $M = p_{m-i+1}$, then exists a prime factor for $N_{m-i+1}$ bigger than p_{m-i+1} in contradiction.<br>\n",
    "<br>\n",
    "From the induction we got $N_{m-m} = \\frac{N}{N} = 1$ so we stop in the $m$'th iteration.<br>\n",
    "By the fact that in each iteration $i$ : $p_{m-i+1}$ was added to the list, then in the exit from the while loop the list contains the prime factorization of $N$.<br>\n",
    "<br>\n",
    "<br>\n",
    "time:<br>\n",
    "Denote by $n$ : length of $N$'s encoding i.e. $log(N)$.<br>\n",
    "We saw that the while block terminates after $m$ loops.<br>\n",
    "Each containing a binary search which runs in $O(log(N)) = O(n)$ calls to $M_L$ with O(n) input.<br>\n",
    "In addition each iteration of the while loop contains some $O(1)$ operations.<br>\n",
    "Overall time complexity: $$ O(m) \\cdot O(log(N)) \\cdot [O(p(log(N))) + O(1)] $$<br>\n",
    "$$ = O(log(N)) \\cdot O(log(N)) \\cdot [O(p(log(N))) + O(1)] $$<br>\n",
    "$$ = O(n) \\cdot O(n) \\cdot [O(p(n)) + O(1)] $$<br>\n",
    "And so in poly(n).<br>"
   ]
  },
  {
   "cell_type": "markdown",
   "id": "c77ec01a",
   "metadata": {},
   "source": [
    "3 .2 coNP\n",
    "---------------------------------------"
   ]
  },
  {
   "cell_type": "markdown",
   "id": "a713b907",
   "metadata": {},
   "source": [
    "$L \\in NP$ : Will show existance of $R : \\Sigma^* \\times \\Sigma^*$ such that $R$ is polynomialy bounded and $L = \\{x| \\exists y : (x,y) \\in R\\}$.<br>\n",
    "<br>\n",
    "Choose $R = \\{((N,M),(p_1,...,p_m)) \\text{ | } (N,M) \\in L \\text{ and } (p_1,...,p_m) \\text{ is the prime factorization of N } \\}$<br>\n",
    "<br>\n",
    "Explained in 3.1 why $(p_1,...,p_m)$ is polynomialy bounded.<br>\n",
    "<br>\n",
    "Show $R \\in P$. Construct $M_R$ to decide $R$ in poly time:<br>\n",
    "First $M_R$ checks that all $p_i$'s are prime (known to be in poly).<br>\n",
    "Take product $\\Pi_{i=1}^m p_i$ and verify equals to N. (if not return NO).<br>\n",
    "Compare $M$ to largest element in $(p_1,...,p_m)$ return YES if $M$ is smaller, else return NO.<br>\n",
    "<br>\n",
    "$L(M_R) = L$ : $$ ((N,M),(p_1,...,p_m)) \\in R $$<br>\n",
    "$$ \\iff (N,M) \\in L \\wedge N = \\Pi_{i=1}^m p_i \\wedge \\forall i \\in [m] : p_i \\text{ is prime } $$<br>\n",
    "$$ \\iff M < max_i(p_i) \\wedge N = \\Pi_{i=1}^m p_i \\wedge \\forall i \\in [m] : p_i \\text{ is prime } $$<br>\n",
    "$$ \\iff ((N,M),(p_1,...,p_m)) \\in L(M_R) $$<br>\n",
    "<br>\n",
    "$M_R$ stops in poly time as is checks factorization which takes O(n) steps of prime checking in O(p(n)) and O(n) product operations. plus an O(1) equality check and O(1) comparison of $p_{max}$ and $M$.<br>\n",
    "<br>\n",
    "<br>\n",
    "$L \\in coNP$ : i.e. $\\bar{L} \\in NP$.<br>\n",
    "That follows from a similar proof with $R = \\{((N,M),(p_1,...,p_m)) \\text{ | } (N,M) \\in \\bar{L} \\text{ and } (p_1,...,p_m) \\text{ is the prime factorization of N } \\}$<br>\n",
    "And the machine which decides it is similar to $M_R$ with the exception of returning according to the comparison $M \\leq max_i(p_i)$ (insead of $\\gt$).<br>\n",
    "<br>\n",
    "<br>\n",
    "Deducing: $L$ is $NP$ complete $\\implies$ $NP \\subseteq coNP$:<br>\n",
    "Assume $L$ is $NP$ complete $\\implies$ $L$ is harder than all $L' \\in NP$.<br>\n",
    "$L \\in coNP$.<br>\n",
    "<br>\n",
    "Let $L'$ be some language in $NP$.<br>\n",
    "$L' \\le_P L$<br>\n",
    "$\\implies \\bar{L'} \\le_P \\bar{L}$<br>\n",
    "$\\implies \\bar{L'} \\in NP$<br>\n",
    "$\\implies L' \\in coNP$<br>\n",
    "<br>\n",
    "thus $NP \\subseteq coNP$<br>\n",
    "<br><br><br>"
   ]
  },
  {
   "cell_type": "markdown",
   "id": "72159ed3",
   "metadata": {},
   "source": []
  },
  {
   "cell_type": "markdown",
   "id": "45aa6101",
   "metadata": {},
   "source": []
  }
 ],
 "metadata": {
  "kernelspec": {
   "display_name": "Python 3 (ipykernel)",
   "language": "python",
   "name": "python3"
  },
  "language_info": {
   "codemirror_mode": {
    "name": "ipython",
    "version": 3
   },
   "file_extension": ".py",
   "mimetype": "text/x-python",
   "name": "python",
   "nbconvert_exporter": "python",
   "pygments_lexer": "ipython3",
   "version": "3.11.0"
  }
 },
 "nbformat": 4,
 "nbformat_minor": 5
}
