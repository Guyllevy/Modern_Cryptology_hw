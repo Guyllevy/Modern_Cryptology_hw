{
 "cells": [
  {
   "cell_type": "markdown",
   "id": "babebbda",
   "metadata": {},
   "source": [
    "Modern Cryptology - Problem Set 4. name: Guy Levy. ID: 206865362."
   ]
  },
  {
   "cell_type": "markdown",
   "id": "2b64a8ef",
   "metadata": {},
   "source": [
    "1 . Homomorphic Encryption and CRHF\n",
    "---------------------------------"
   ]
  },
  {
   "cell_type": "markdown",
   "id": "e3449cd4",
   "metadata": {},
   "source": [
    "1. let $ y \\in \\mathbb{F}: y \\neq 0 $ $\\Rightarrow$  $\\exists j \\in [n] : y_j \\neq 0$\n",
    "$$Pr_{x \\in_R \\mathbb{F}}\\big[<x,y> = 0\\big] = Pr_{x \\in_R \\mathbb{F}}\\big[\\sum_{i=0}^{n} x_i y_i = 0\\big]$$\n",
    "$$ = Pr_{x \\in_R \\mathbb{F}}\\big[-x_j y_j = \\sum_{i \\neq j}^{n} x_i y_i\\big]$$\n",
    "$$ = Pr_{x \\in_R \\mathbb{F}}\\big[ x_j = -y_j \\cdot (\\sum_{i \\neq j}^{n} x_i y_i)\\big]$$\n",
    "<br>\n",
    "(note : $-y_j \\cdot (\\sum_{i \\neq j}^{n} x_i y_i$ is some random number in $\\mathbb{F}$ as $x$ is random.)<br>\n",
    "$$ = Pr_{a \\in_R \\mathbb{F}}\\big[ a = b\\big]$$ (for some $b$)<br>\n",
    "$$ =\\frac{1}{|\\mathbb{F}|}$$"
   ]
  },
  {
   "cell_type": "markdown",
   "id": "dc8ee990",
   "metadata": {},
   "source": [
    "2. Adversary chooses $x \\in_R \\mathbb{F}^n$ at random,<br>\n",
    "we saw in (1) that if $y\\neq0$:<br>\n",
    "$$Pr_{x \\in_R \\mathbb{F}}\\big[<x,y> = 0\\big] = \\frac{1}{|\\mathbb{F}|}$$\n",
    "<br>\n",
    "And in the case that $y = 0$ that probability is 1.<br>"
   ]
  },
  {
   "cell_type": "markdown",
   "id": "ce8fea44",
   "metadata": {},
   "source": [
    "3. Assume there exists Adversary $A$ and $p(n)$ polynomial such that:<br>\n",
    "$$Pr_{k \\in_R G(1^n), y \\in_R \\mathbb{F}^n}\\big[A(E_k(y)) = x : <x,y> = 0\\big] \\geq \\frac{1}{|\\mathbb{F}|} + \\frac{1}{p(n)}$$\n",
    "<br>\n",
    "Will show $(G,E,D)$ not CPA secure, In contradiction to assumption.<br>\n",
    "Thus will get what we wanted to prove.<br>\n",
    "<br>\n",
    "Construct $A'$ to break $(G,E,D)$'s CPA security:<br>\n",
    "<br>\n",
    "$A'$ sends challenger $m_0 \\in_R \\{0,1\\}^n, m_1 \\in_R \\{0,1\\}^n$.<br>\n",
    "Challenger sends back $E_k(m_b)$ for random $b \\in_R \\{0,1\\}$.<br>\n",
    "$A'$ computes $A(E_k(m_b))$ to get some $x$.<br>\n",
    "If $<m_0,x> = 0$ returns $b' = 0$, else returns $b' = 1$.<br>\n",
    "<br>\n",
    "Claim: $A'$ breaks CPA:<br>\n",
    "i.e. claim $Pr[b' = b] \\geq \\frac{1}{2} + \\frac{1}{p'(n)}$ for $p'$ some polynomial.<br>\n",
    "<br>\n",
    "$$Pr_{b \\in_R \\{0,1\\}}[b' = b] = Pr_{b \\in_R \\{0,1\\}}[A'(E_k(m_b)) = b]$$\n",
    "<br>\n",
    "$$ = Pr_{b \\in_R \\{0,1\\}}[A'(E_k(m_0)) = 0] \\cdot Pr[b = 0] + Pr_{b \\in_R \\{0,1\\}}[A'(E_k(m_1)) = 1] \\cdot Pr[b = 1]$$\n",
    "<br>\n",
    "$$ = 0.5 \\cdot Pr[<m_0,x> = 0] + 0.5 \\cdot Pr[<m_1,x> \\neq 0]$$\n",
    "<br>\n",
    "$$ \\geq^{(*)} 0.5 \\cdot (\\frac{1}{|\\mathbb{F}|} + \\frac{1}{p(n)}) + 0.5 \\cdot (1 - \\frac{1}{|\\mathbb{F}|} - \\frac{1}{|\\mathbb{F}|^n})$$\n",
    "<br>\n",
    "$$ = \\frac{1}{2} + \\frac{1}{2p(n)} - \\frac{1}{|\\mathbb{F}|^n}$$\n",
    "<br>\n",
    "$$ \\geq^{(**)} \\frac{1}{2} + \\frac{1}{p'(n)}$$\n",
    "<br>\n",
    "<br>\n",
    "$(*)$:\n",
    "$ Pr[<m_0,x> = 0] \\leq \\frac{1}{|\\mathbb{F}|} + Pr[x=0]$\n",
    "<br>\n",
    "$(**)$:\n",
    "for $p'(n) = 3p(n)$. for all $n > N$ for some $N \\in \\mathbb{N}$"
   ]
  },
  {
   "cell_type": "markdown",
   "id": "276bc8a5",
   "metadata": {},
   "source": [
    "4. was not able to solve ( especially was not able to use extension as I have 3 exams between 7.7 and 9.7 )"
   ]
  },
  {
   "cell_type": "markdown",
   "id": "4ce28a24",
   "metadata": {},
   "source": [
    "5. was not able to solve"
   ]
  },
  {
   "cell_type": "markdown",
   "id": "d839ed3f",
   "metadata": {},
   "source": [
    "2 . Circular Security of Regev Encryption\n",
    "---------------------------------"
   ]
  },
  {
   "cell_type": "markdown",
   "id": "cdb550ea",
   "metadata": {},
   "source": [
    "2 .1 Circular Security\n",
    "----------------------"
   ]
  },
  {
   "cell_type": "markdown",
   "id": "4fb2f192",
   "metadata": {},
   "source": [
    "Enough to prove that we can get $enc_{pk}(s_i)$  $\\forall i \\in [n]$ for free.<br>\n",
    "From the fact that Regev is CPA, we can conclude that its circular secure.<br>\n",
    "<br>\n",
    "Given $(a, \\tau)$ an encryptio for 0, Claim $(a - \\frac{q}{2}u_i, \\tau)$ is an encryption for $s_i$ and thus we conclude the proof.<br>\n",
    "<br>\n",
    "Proof of claim:<br>\n",
    "Lets calculate $dec_{sk}((a - \\frac{q}{2}u_i, \\tau))$<br>\n",
    "$$|\\tau - <a - \\frac{q}{2}u_i,s> | = |\\tau - <a,s> + \\frac{q}{2}<u_i,s>| = |\\tau - <a,s> + \\frac{q}{2}s_i|$$\n",
    "<br>\n",
    "if $s_i = 0$ this equals  $|\\tau - <a,s>|$ which is exactly the way we decrypt $(a, \\tau)$ which is an encryption for 0. and thus $dec_{sk}((a - \\frac{q}{2}u_i, \\tau)) = 0$<br>\n",
    "<br>\n",
    "if $s_i = 1$ this equals  $|\\tau - <a,s> + \\frac{q}{2}|$, now because $\\tau - <a,s>$ is a number in $[-B \\cdot n,B \\cdot n]$ then $\\tau - <a,s> + \\frac{q}{2}$ is in $[\\frac{q}{2} -B \\cdot n,\\frac{q}{2} + B \\cdot n]$ and so $|\\tau - <a,s> + \\frac{q}{2}| > \\frac{q}{4}$ so $dec_{sk}((a - \\frac{q}{2}u_i, \\tau)) = 1$<br>"
   ]
  },
  {
   "cell_type": "markdown",
   "id": "af6d14d4",
   "metadata": {},
   "source": [
    "2 .2 Key Dependent Security\n",
    "----------------------"
   ]
  },
  {
   "cell_type": "markdown",
   "id": "ceb43713",
   "metadata": {},
   "source": [
    "Let $f$ be some linear function over the binary field.<br>\n",
    "similarly to 2.1 lets show that an adversary can produce $enc_{pk}(f(s))$ and thus the encryption is still secure given $enc_{pk}(f(s))$.<br>\n",
    "Can calculate any linear function with XOR so enough to show that adversary can produce $enc_{pk}(s_i \\oplus s_j)$.<br>\n",
    "<br>\n",
    "We saw that given $enc_{pk}(0) = (a, \\tau)$:<br>\n",
    "$(a - \\frac{q}{2}u_i, \\tau)$ is an encryption for $s_i$.<br>\n",
    "<br>\n",
    "Claim $(a - \\frac{q}{2}u_i - \\frac{q}{2}u_j, \\tau)$ is an encryption of $s_i \\oplus s_j$.<br>\n",
    "<br>\n",
    "$$|\\tau - <a - \\frac{q}{2}u_i- \\frac{q}{2}u_j,s> | =  |\\tau - <a,s> + \\frac{q}{2}<u_i,s> + \\frac{q}{2}<u_j,s>| = |\\tau - <a,s> + \\frac{q}{2}s_i + \\frac{q}{2}s_j|$$\n",
    "<br>\n",
    "if $s_i = s_j$ this equals $|\\tau - <a,s>|$ so $(a - \\frac{q}{2}u_i - \\frac{q}{2}u_j, \\tau)$ encrypts $0 = s_i \\oplus s_j$<br>\n",
    "else one of $s_i, s_j$ is 1 and the other is 0 so equals $|\\tau - <a,s> + \\frac{q}{2}|$ which we saw encrypts $1 = s_i \\oplus s_j$<br>"
   ]
  },
  {
   "cell_type": "markdown",
   "id": "03acf396",
   "metadata": {},
   "source": [
    "3 . ZK for Hamiltonicity\n",
    "-------------------------------"
   ]
  },
  {
   "cell_type": "markdown",
   "id": "365e8492",
   "metadata": {},
   "source": [
    "3 .1 Interactive Proof\n",
    "-----------------------------"
   ]
  },
  {
   "cell_type": "markdown",
   "id": "993a2796",
   "metadata": {},
   "source": [
    "Denote $n$ as the number of nodes in $G$.<br>\n",
    "Denote $A$ as the adjacency matrix of $G$.<br>\n",
    "Denote $A'$ as the adjacency matric of $G'$.<br>\n",
    "Assume $H$ is a sequence of vertices.<br><br>\n",
    "Protocol:<br>\n",
    "1. $P$ samples $\\pi \\in_R S_n$, $\\forall k \\in [n]$ : $H'_k = \\pi(H_k)$\n",
    "2. $P$ for all $i,j \\in [n]$:\n",
    "$A'_{ij} = A'_{\\pi(i)\\pi(j)}$<br>\n",
    "samples $r_{ij} \\in_R \\{0,1\\}^n$<br>\n",
    "sends $c_{ij} = commit(r_{ij}, A'_{ij})$ to $V$<br>\n",
    "3. $V$ samples $b \\in_R \\{0,1\\}$ and sends it to $P$.<br>\n",
    "4. $P$ follows:<br>\n",
    "if $b = 0$ sends to $V$ : all $r_{ij}, A'_{ij},  \\pi$<br>\n",
    "if $b = 1$ sends to $V$ : $H'$ and the $r_{uv}, A'_{uv}$ that correspond to edges in $H'$.<br>\n",
    "5. $V$ checks:<br>\n",
    "if $b = 0$, checks that $G' = \\pi(G)$, ($G'$ implied by $A'$)<br>\n",
    "if $b = 1$, checks that edges in $H'$ exist, i.e. $commit(r_{uv},1) = c_{uv}$<br>\n",
    "($V$ accepts if passes checks)<br>\n",
    "<br>\n",
    "soundness error: given $G \\notin HC$ and for all $P^*$<br>\n",
    "$P^*$ commits to some adjacency matrix for a graph $G'$ with no hamiltonian circle.<br>\n",
    "$P^*$ has 3 possibilities:<br>\n",
    "(I) commit to $G'$ not isomorphic to $G$ with some circle $H'$.<br>\n",
    "(II) commit to $G'$ isomorphic to $G$ with invalid circle $H'$.<br>\n",
    "(III) commit to $G'$ not isomorphic to $G$ with invalid circle $H'$.<br>\n",
    "either way $Pr[(P^*, V)(G) = 1] \\leq \\frac{1}{2}$.<br>\n",
    "<br>\n",
    "commitment: the prover should protect its own interest - its privacy, thus will prefer perfectly hiding commitment.<br>\n",
    "\n"
   ]
  },
  {
   "cell_type": "markdown",
   "id": "fe00993d",
   "metadata": {},
   "source": [
    "3 .2 HVZK\n",
    "-----------------------"
   ]
  },
  {
   "cell_type": "markdown",
   "id": "61280e3e",
   "metadata": {},
   "source": [
    "Will show PPT $S$ such that $S(G) \\sim View(V)$.\n",
    "$View(V)$ consists of commitments to adjacency matrix of $G'$, $b$ and what $P$ sends in response to $b$.<br>\n",
    "<br>\n",
    "$S$ samples $\\pi^{(1)} \\in_R S_n$ produces $G' = \\pi^{(1)}(G)$.<br>\n",
    "$S$ produces commitments $c^{(1)}_{ij} = commit(r^{(1)}_{ij}, A'_{ij})$<br>\n",
    "$S$ samples $\\pi^{(0)} \\in_R S_n$ produces $G_d$ which is a simples circle graph $\\pi^{(0)}(1) \\rightarrow ... \\rightarrow \\pi^{(0)}(n)$.<br>\n",
    "$S$ produces commitments $c^{(0)}_{i,i+1} = commit(r^{(0)}_{i,i+1},1)$, those are $n$ commits, produce rest of commits $c^{(0)}_{ij} = commit(r^{(0)}_{ij},0)$.<br>\n",
    "<br>\n",
    "$S$ samples $b \\in_R \\{0,1\\}$<br>\n",
    "if $b = 1$ $S$ outputs $c = c^{(1)}, b=1, r^{(1)}, A', \\pi^{(1)}$<br>\n",
    "if $b = 0$ $S$ outputs $c = c^{(0)}, b=0, H' = \\pi^{(0)}(1) \\rightarrow ... \\rightarrow \\pi^{(0)}(n)$ and 1's for adjacency matrix entrys.<br>\n",
    "<br>\n",
    "$View(V) \\sim S(G)$:<br>\n",
    "From perfect hiding of commit $c^{(0)}$ and $c^{(1)}$ matrices distribute the same.<br>\n",
    "Bit b sampled randomly.<br>\n",
    "If $b=1$ $S$ does exactly as $P$ so view distributes the same.<br>\n",
    "If $b=0$ verifier sees in either way a circle of random ordered $n$ nodes and commitment verifications for 1's.<br>"
   ]
  },
  {
   "cell_type": "markdown",
   "id": "96be8a30",
   "metadata": {},
   "source": [
    "3 .3 Malicious Verifier ZK.\n",
    "-------------------------"
   ]
  },
  {
   "cell_type": "markdown",
   "id": "c1801763",
   "metadata": {},
   "source": [
    "$V^*$'s freedom in the interaction is in sampling $b$.<br>\n",
    "claim: $S_{V^*}$ which acts like $S$ from before with the exception of sampling $b$ like $V^*$, satisfies $S^* \\sim View(V^*)$.<br>\n",
    "$View(V^*)$ given $V^*$ chose $b=1$ is exactly $S^*$ given $S^*$ chose $b=1$.<br>\n",
    "same for $b = 0$.<br>\n",
    "so because they sample $b$ the same it follows $S^* \\sim View(V^*)$.<br>"
   ]
  },
  {
   "cell_type": "markdown",
   "id": "5f8b51d2",
   "metadata": {},
   "source": [
    "3 .4 Soundness Error\n",
    "-------------------"
   ]
  },
  {
   "cell_type": "markdown",
   "id": "41f1b7b8",
   "metadata": {},
   "source": [
    "Suggest a new protocol $(P_n,V_n)$.<br>\n",
    "$P_n$ interacts with $V_n$ exactly as $P$ interacts with $V$, just that they repeat the interaction $n$ times.<br>\n",
    "$V_n$ accepts only if accepted all interactions.<br>\n",
    "So given $G \\notin HC$, $Pr[(P_n, V_n)(G) = 1] = (Pr[(P, V)(G) = 1])^n = 2^{-n} = neg(n)$.<br>\n",
    "To get soundness error of $\\epsilon$ : choose $n$ that satisfies $$2^{-n} = \\epsilon$$. i.e. $$n = -log_2(\\epsilon)$$\n",
    "In the 3COL ZK protocol we get soundness error of less than $\\frac{2}{3}$ so will have to repeat more times to reach the same goal $\\epsilon$. $$n' = -\\frac{log_2(\\epsilon)}{log_2(3/2)}$$"
   ]
  },
  {
   "cell_type": "markdown",
   "id": "b8a242e7",
   "metadata": {},
   "source": []
  }
 ],
 "metadata": {
  "kernelspec": {
   "display_name": "Python 3 (ipykernel)",
   "language": "python",
   "name": "python3"
  },
  "language_info": {
   "codemirror_mode": {
    "name": "ipython",
    "version": 3
   },
   "file_extension": ".py",
   "mimetype": "text/x-python",
   "name": "python",
   "nbconvert_exporter": "python",
   "pygments_lexer": "ipython3",
   "version": "3.11.0"
  }
 },
 "nbformat": 4,
 "nbformat_minor": 5
}
