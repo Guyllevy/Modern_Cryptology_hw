{
 "cells": [
  {
   "cell_type": "markdown",
   "id": "babebbda",
   "metadata": {},
   "source": [
    "Modern Cryptology - Problem Set 1. name: Guy Levy. ID: 206865362."
   ]
  },
  {
   "cell_type": "markdown",
   "id": "03acf396",
   "metadata": {},
   "source": [
    "3 . ZK for Hamiltonicity\n",
    "-------------------------------"
   ]
  },
  {
   "cell_type": "markdown",
   "id": "365e8492",
   "metadata": {},
   "source": [
    "3 .1 Interactive Proof\n",
    "-----------------------------"
   ]
  },
  {
   "cell_type": "markdown",
   "id": "993a2796",
   "metadata": {},
   "source": [
    "Denote $n$ as the number of nodes in $G$.<br>\n",
    "Denote $A$ as the adjacency matrix of $G$.<br>\n",
    "Denote $A'$ as the adjacency matric of $G'$.<br>\n",
    "Assume $H$ is a sequence of vertices.<br><br>\n",
    "Protocol:<br>\n",
    "1. $P$ samples $\\pi \\in_R S_n$, $\\forall k \\in [n]$ : $H'_k = \\pi(H_k)$\n",
    "2. $P$ for all $i,j \\in [n]$:\n",
    "$A'_{ij} = A'_{\\pi(i)\\pi(j)}$<br>\n",
    "samples $r_{ij} \\in_R \\{0,1\\}^n$<br>\n",
    "sends $c_{ij} = commit(r_{ij}, A'_{ij})$ to $V$<br>\n",
    "3. $V$ samples $b \\in_R \\{0,1\\}$ and sends it to $P$.<br>\n",
    "4. $P$ follows:<br>\n",
    "if $b = 0$ sends to $V$ : all $r_{ij}, A'_{ij},  \\pi$<br>\n",
    "if $b = 1$ sends to $V$ : $H'$ and the $r_{uv}, A'_{uv}$ that correspond to edges in $H'$.<br>\n",
    "5. $V$ checks:<br>\n",
    "if $b = 0$, checks that $G' = \\pi(G)$, ($G'$ implied by $A'$)<br>\n",
    "if $b = 1$, checks that edges in $H'$ exist, i.e. $commit(r_{uv},1) = c_{uv}$<br>\n",
    "($V$ accepts if passes checks)<br>\n",
    "<br>\n",
    "soundness error: given $G \\notin HC$ and for all $P^*$<br>\n",
    "$P^*$ commits to some adjacency matrix for a graph $G'$ with no hamiltonian circle.<br>\n",
    "$P^*$ has 3 possibilities:<br>\n",
    "(I) commit to $G'$ not isomorphic to $G$ with some circle $H'$.<br>\n",
    "(II) commit to $G'$ isomorphic to $G$ with invalid circle $H'$.<br>\n",
    "(III) commit to $G'$ not isomorphic to $G$ with invalid circle $H'$.<br>\n",
    "either way $Pr[(P^*, V)(G) = 1] \\leq \\frac{1}{2}$.<br>\n",
    "<br>\n",
    "commitment: the prover should protect its own interest - its privacy, thus will prefer perfectly hiding commitment.<br>\n",
    "\n"
   ]
  },
  {
   "cell_type": "markdown",
   "id": "fe00993d",
   "metadata": {},
   "source": [
    "3 .2 HVZK\n",
    "-----------------------"
   ]
  },
  {
   "cell_type": "markdown",
   "id": "61280e3e",
   "metadata": {},
   "source": [
    "Will show PPT $S$ such that $S(G) \\sim View(V)$.\n",
    "$View(V)$ consists of commitments to adjacency matrix of $G'$, $b$ and what $P$ sends in response to $b$.<br>\n",
    "<br>\n",
    "$S$ samples $\\pi^{(1)} \\in_R S_n$ produces $G' = \\pi^{(1)}(G)$.<br>\n",
    "$S$ produces commitments $c^{(1)}_{ij} = commit(r^{(1)}_{ij}, A'_{ij})$<br>\n",
    "$S$ samples $\\pi^{(0)} \\in_R S_n$ produces $G_d$ which is a simples circle graph $\\pi^{(0)}(1) \\rightarrow ... \\rightarrow \\pi^{(0)}(n)$.<br>\n",
    "$S$ produces commitments $c^{(0)}_{i,i+1} = commit(r^{(0)}_{i,i+1},1)$, those are $n$ commits, produce rest of commits $c^{(0)}_{ij} = commit(r^{(0)}_{ij},0)$.<br>\n",
    "<br>\n",
    "$S$ samples $b \\in_R \\{0,1\\}$<br>\n",
    "if $b = 1$ $S$ outputs $c = c^{(1)}, b=1, r^{(1)}, A', \\pi^{(1)}$<br>\n",
    "if $b = 0$ $S$ outputs $c = c^{(0)}, b=0, H' = \\pi^{(0)}(1) \\rightarrow ... \\rightarrow \\pi^{(0)}(n)$ and 1's for adjacency matrix entrys.<br>\n",
    "<br>\n",
    "$View(V) \\sim S(G)$:<br>\n",
    "From perfect hiding of commit $c^{(0)}$ and $c^{(1)}$ matrices distribute the same.<br>\n",
    "Bit b sampled randomly.<br>\n",
    "If $b=1$ $S$ does exactly as $P$ so view distributes the same.<br>\n",
    "If $b=0$ verifier sees in either way a circle of random ordered $n$ nodes and commitment verifications for 1's.<br>"
   ]
  },
  {
   "cell_type": "markdown",
   "id": "96be8a30",
   "metadata": {},
   "source": [
    "3 .3 Malicious Verifier ZK.\n",
    "-------------------------"
   ]
  },
  {
   "cell_type": "markdown",
   "id": "c1801763",
   "metadata": {},
   "source": [
    "$V^*$'s freedom in the interaction is in sampling $b$.<br>\n",
    "claim: $S_{V^*}$ which acts like $S$ from before with the exception of sampling $b$ like $V^*$, satisfies $S^* \\sim View(V^*)$.<br>\n",
    "$View(V^*)$ given $V^*$ chose $b=1$ is exactly $S^*$ given $S^*$ chose $b=1$.<br>\n",
    "same for $b = 0$.<br>\n",
    "so because they sample $b$ the same it follows $S^* \\sim View(V^*)$.<br>"
   ]
  },
  {
   "cell_type": "markdown",
   "id": "5f8b51d2",
   "metadata": {},
   "source": [
    "3 .4 Soundness Error\n",
    "-------------------"
   ]
  },
  {
   "cell_type": "markdown",
   "id": "41f1b7b8",
   "metadata": {},
   "source": [
    "Suggest a new protocol $(P_n,V_n)$.<br>\n",
    "$P_n$ interacts with $V_n$ exactly as $P$ interacts with $V$, just that they repeat the interaction $n$ times.<br>\n",
    "$V_n$ accepts only if accepted all interactions.<br>\n",
    "So given $G \\notin HC$, $Pr[(P_n, V_n)(G) = 1] = (Pr[(P, V)(G) = 1])^n = 2^{-n} = neg(n)$.<br>\n",
    "To get soundness error of $\\epsilon$ : choose $n$ that satisfies $$2^{-n} = \\epsilon$$. i.e. $$n = -log_2(\\epsilon)$$\n",
    "In the 3COL ZK protocol we get soundness error of less than $\\frac{2}{3}$ so will have to repeat more times to reach the same goal $\\epsilon$. $$n' = -\\frac{log_2(\\epsilon)}{log_2(3/2)}$$"
   ]
  },
  {
   "cell_type": "code",
   "execution_count": null,
   "id": "57bb45a3",
   "metadata": {},
   "outputs": [],
   "source": []
  }
 ],
 "metadata": {
  "kernelspec": {
   "display_name": "Python 3 (ipykernel)",
   "language": "python",
   "name": "python3"
  },
  "language_info": {
   "codemirror_mode": {
    "name": "ipython",
    "version": 3
   },
   "file_extension": ".py",
   "mimetype": "text/x-python",
   "name": "python",
   "nbconvert_exporter": "python",
   "pygments_lexer": "ipython3",
   "version": "3.11.0"
  }
 },
 "nbformat": 4,
 "nbformat_minor": 5
}
