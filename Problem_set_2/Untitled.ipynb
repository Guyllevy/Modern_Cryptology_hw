{
 "cells": [
  {
   "cell_type": "markdown",
   "id": "2a10da43",
   "metadata": {},
   "source": [
    "Modern Crypology - Problem Set 2\n",
    "====================="
   ]
  },
  {
   "cell_type": "markdown",
   "id": "7195e9d4",
   "metadata": {},
   "source": [
    "name: Guy Levy <br>\n",
    "id: 206865362"
   ]
  },
  {
   "cell_type": "markdown",
   "id": "a5d8efa8",
   "metadata": {},
   "source": [
    "1 - PRGs\n",
    "=====================\n",
    "Answers:"
   ]
  },
  {
   "cell_type": "markdown",
   "id": "09e07c2e",
   "metadata": {},
   "source": [
    "1. Assume (for the sake of contradiction) $G'$ is not a PRG, so there exists an index $i \\in [l]$ such that:<br>\n",
    "$\\exists$ PPT $D$ and $\\exists p: \\mathbb{N} \\rightarrow \\mathbb{N}$ some polynomial:\n",
    "$$ \\bigg|Pr_{x \\leftarrow U_n}[D(G'_i(x)) = 1] - Pr_{b\\leftarrow U_1}[D(b) = 1]\\bigg| > \\frac{1}{2} + \\frac{1}{p(n)}$$\n",
    "But $G'_i(x) = G_{\\sigma(j)}(x) $ for one $j \\in [l]$\n",
    "So $$ \\bigg|Pr_{x \\leftarrow U_n}[D(G_{\\sigma(j)}(x)) = 1] - Pr_{b\\leftarrow U_1}[D(b) = 1]\\bigg| > \\frac{1}{2} + \\frac{1}{p(n)}$$\n",
    "So there exists index $k = \\sigma(j), k \\in [l]$ in which \n",
    "$$ \\bigg|Pr_{x \\leftarrow U_n}[D(G_k(x)) = 1] - Pr_{b\\leftarrow U_1}[D(b) = 1]\\bigg| > \\frac{1}{2} + \\frac{1}{p(n)}$$\n",
    "In contradiction to the assumption that $G$ is a PRG. $\\Rightarrow\\Leftarrow$<br>\n",
    "So we must conclude $G'$ is a PRG.<br>"
   ]
  },
  {
   "cell_type": "markdown",
   "id": "7964bc53",
   "metadata": {},
   "source": [
    "2. Denote $n < l$ the numbers for which $G : \\{0,1\\}^n \\rightarrow \\{0,1\\}^l$.<br>\n",
    "So by definition of $G'$ its of the form $G' : \\{0,1\\}^{2n} \\rightarrow \\{0,1\\}^{2l}$<br><br>\n",
    "Assume we have a distinguisher $D'$ for $G'$.<br>\n",
    "I will construct a distinguisher $D$ for $G$ and thus prove: $G'$ not a PRG $\\Rightarrow$ $G$ not a PRG.<br>\n",
    "Equivalent to the claim we would like to prove: $G$ is a PRG $\\Rightarrow$ $G'$ is a PRG.<br><br>\n",
    "$D'$ distinguishes $G'$, so $adv_D(G') \\geq \\frac{1}{p(n)}$ for $p: \\mathbb{N} \\rightarrow \\mathbb{N}$ some polynomial.<br><br>\n",
    "Define $D$:<br>\n",
    "$D$, given $x$ as an input generates $b \\overset{\\$}{\\leftarrow} \\{0,1\\}$.<br>\n",
    "if $b = 0$, $D$ generates $s \\overset{$}{\\leftarrow} U_n$ and calculates $y \\leftarrow G(s)$.<br>\n",
    "if $b = 1$, $D$ generates $y \\overset{$}{\\leftarrow} U_l$.<br>\n",
    "$D$ runs $D'(x \\cdot y)$ and returns the result.<br>\n",
    "<br>\n",
    "Assessment of $D$s advantage:<br>\n",
    "$$adv_D(G) = \\bigg|Pr_{s \\leftarrow U_n}[D(G(s)) = 1] - Pr_{x\\leftarrow U_l}[D(x) = 1]\\bigg|$$<br>\n",
    "$$ = \\bigg|Pr_{s \\leftarrow U_n}[D'(G(s) \\cdot y) = 1] - Pr_{x\\leftarrow U_l}[D'(x \\cdot y) = 1]\\bigg|$$\n",
    "Simplify members of equation:<br>\n",
    "$Pr_{s \\leftarrow U_n}[D'(G(s) \\cdot y) = 1] = $<br>\n",
    "$Pr_{s \\leftarrow U_n}[D'(G(s) \\cdot y) = 1 \\land y \\leftarrow U_l] + \n",
    "Pr_{s \\leftarrow U_n}[D'(G(s) \\cdot y) = 1 \\land y \\leftarrow G(U_n)] = $<br>\n",
    "$ \\frac{1}{2} Pr_{s \\leftarrow U_n, s' \\leftarrow U_n}[D'(G(s) \\cdot G(s')) = 1] +\n",
    "\\frac{1}{2} Pr_{s \\leftarrow U_n, y \\leftarrow U_l}[D'(G(s) \\cdot y) = 1]$<br><br>\n",
    "$Pr_{x\\leftarrow U_l}[D'(x \\cdot y) = 1] = $<br>\n",
    "$Pr_{x\\leftarrow U_l}[D'(x \\cdot y) = 1 \\land y \\leftarrow U_l] + Pr_{x\\leftarrow U_l}[D'(x \\cdot y) = 1 \\land y \\leftarrow G(U_n)] = $<br>\n",
    "$ \\frac{1}{2} Pr_{x \\leftarrow U_l, y \\leftarrow U_n}[D'(x \\cdot y) = 1] +\n",
    "\\frac{1}{2} Pr_{x \\leftarrow U_l, s \\leftarrow U_n}[D'(x \\cdot G(s)) = 1]$<br><br>\n",
    "Continue with original assessment:<br>\n",
    "$adv_D(G) = ... = $<br><br>\n",
    "$\\bigg|\\frac{1}{2} Pr_{s \\leftarrow U_n, s' \\leftarrow U_n}[D'(G(s) \\cdot G(s')) = 1] +\n",
    "\\frac{1}{2} Pr_{s \\leftarrow U_n, y \\leftarrow U_l}[D'(G(s) \\cdot y) = 1] $<br>\n",
    "$- \\frac{1}{2} Pr_{x \\leftarrow U_l, y \\leftarrow U_n}[D'(x \\cdot y) = 1] - \\frac{1}{2} Pr_{x \\leftarrow U_l, s \\leftarrow U_n}[D'(x \\cdot G(s)) = 1]\\bigg|$<br><br>\n",
    "$ =^{(*)} \\bigg|\\frac{1}{2} Pr_{s \\leftarrow U_n, s' \\leftarrow U_n}[D'(G(s) \\cdot G(s')) = 1]  - \\frac{1}{2} Pr_{x \\leftarrow U_l, y \\leftarrow U_n}[D'(x \\cdot y) = 1]\\bigg|$<br>\n",
    "$ = \\frac{1}{2} \\bigg|Pr_{s \\leftarrow U_n, s' \\leftarrow U_n}[D'(G(s) \\cdot G(s')) = 1]  - Pr_{x \\leftarrow U_l, y \\leftarrow U_n}[D'(x \\cdot y) = 1]\\bigg|$<br>\n",
    "$\\frac{1}{2} adv_{D'}(G') \\geq \\frac{1}{2p(n)}$<br>\n",
    "<br>$(*)$ Here we assume $D'$ symmetric on both halves of input. (if there exists some $D'$ for $G'$ then it achieves the same advantage if we switch between 2 halves of input) in particular, lets build such symmetric distinguisher, run $D'$ and its symmetric opposite and flip a coin as to which result to return.<br>"
   ]
  },
  {
   "cell_type": "markdown",
   "id": "ebd8d437",
   "metadata": {},
   "source": [
    "3. Let $G_0 : \\{0,1\\}^n \\rightarrow \\{0,1\\}^l$ be some PRG.<br>\n",
    "Assume for the sake of contradiction that the claim is true.<br>\n",
    "$G_1 = G_0(s) \\cdot s_1$ is a PRG.<br>\n",
    "$G' = G_1(s) \\cdot s_1 = G_0(s) \\cdot s_1^2$ is a PRG.<br><br>\n",
    "I will show that $G'$ is distinguishable from $U_{l+2}$ and this not a PRG, and by that reach a contradiction to the claim.<br><br>\n",
    "Define $D$:<br>\n",
    "Distinguisher $D$ looks at final 2 bits of its input and outputs 1 if they are equal. else outputs 0.<br><br>\n",
    "Assess $D$s advantage on $G'$:<br>\n",
    "$adv_D(G') = \\bigg|Pr_{s \\leftarrow U_n}[D(G'(s)) = 1] - Pr_{y \\leftarrow U_{l+2}}[D(y) = 1]\\bigg| = |1 - \\frac{1}{2}| = \\frac{1}{2} > \\frac{1}{p(n)}$<br>\n",
    "when $p(n) = 3$, a polynomial.\n"
   ]
  },
  {
   "cell_type": "markdown",
   "id": "643fc872",
   "metadata": {},
   "source": [
    "2 - PRG implies OWF\n",
    "=============="
   ]
  },
  {
   "cell_type": "markdown",
   "id": "349019a3",
   "metadata": {},
   "source": [
    "Answer:<br><br>\n",
    "Let $G : \\{0,1\\}^n \\rightarrow \\{0,1\\}^{n+1}$ be a PRG. Also $G$ is 1:1.<br>\n",
    "Want to prove $G$ is OWF. So need to prove:<br>\n",
    "1. $G(x)$ is computable in polynomial time.\n",
    "2. for any PPT $A$ and all sufficiently large n:\n",
    "$$ Pr_{x \\leftarrow \\{0,1\\}^n}[A(1^n, G(x)) = x' : G(x') = G(x)] \\leq negl(n)$$\n",
    "\n",
    "proving 1. is immediate from the definition of PRG.<br>\n",
    "proving 2:<br>\n",
    "Assume $G$ is not a OWF;<br>\n",
    "$\\exists$ PPT $A$ s.t. $Pr_{x \\leftarrow \\{0,1\\}^n}[A(1^n, G(x)) = x' : G(x') = G(x)] \\geq \\frac{1}{p(n)}$ for some polynomial $p$<br>\n",
    "From the assumption that $G$ is 1:1<br>\n",
    "$\\exists$ PPT $A$ s.t. $Pr_{x \\leftarrow \\{0,1\\}^n}[A(1^n, G(x)) = x] \\geq \\frac{1}{p(n)}$ for some polynomial $p$<br><br>\n",
    "Using $A$, I will now construct $D$ - a distinguisher for $G$, and thus show that $G$ is not a PRG. this is a contradiction.<br>\n",
    "So we conclude $G$ must be OWF and end the proof.<br><br>\n",
    "Defining D:<br>\n",
    "Given input $y \\in \\{0,1\\}^{n+1}$, $D$ calculates $A(y)$, this returns some $x \\in \\{0,1\\}^n$.\n",
    "$D$ checks if $G(x) = y$.<br>\n",
    "if holds, return 1, else return 0.<br><br> \n",
    "Now we estimate $adv_D(G)$:<br>\n",
    "$\\bigg|Pr_{x \\leftarrow U_n}[D(G(x)) = 1] - Pr_{y\\leftarrow U_{n+1}}[D(y) = 1]\\bigg|$<br>\n",
    "$ = \\bigg|Pr_{x \\leftarrow U_n}[A(G(x)) = x] - Pr_{y\\leftarrow U_{n+1}, x \\leftarrow U_n}[A(y) = x]\\bigg|$<br>\n",
    "$ \\geq Pr_{x \\leftarrow U_n}[A(G(x)) = x] - Pr_{y\\leftarrow U_{n+1}, x \\leftarrow U_n}[A(y) = x]$<br>\n",
    "$ \\geq \\frac{1}{p(n)} - \\bigg[Pr_{y\\leftarrow U_{n+1}, x \\leftarrow U_n}[A(y) = x \\land G(x) = y] + Pr_{y\\leftarrow U_{n+1}, x \\leftarrow U_n}[A(y) = x \\land G(x) \\neq y]\\bigg] $<br><br>\n",
    "Estimate some members of equation:<br>\n",
    "$Pr_{y\\leftarrow U_{n+1}, x \\leftarrow U_n}[A(y) = x \\land G(x) = y] \\leq Pr_{y\\leftarrow U_{n+1}, x \\leftarrow U_n}[G(x) = y] \\leq \\frac{1}{2^{n+1}}$<br>\n",
    "$Pr_{y\\leftarrow U_{n+1}, x \\leftarrow U_n}[A(y) = x \\land G(x) \\neq y] \\leq Pr_{y\\leftarrow U_{n+1}, x \\leftarrow U_n}[A(x) = y] \\leq \\frac{1}{2^{n}}$<br><br>\n",
    "Back to original estimation:\n",
    "$adv_D(G) \\geq ... \\geq \\frac{1}{p(n)} - \\frac{1}{2^{n+1}} - \\frac{1}{2^{n}} \\geq^{(*)} \\frac{1}{2p(n)}$<br>\n",
    "$(*)$ $\\frac{1}{2p(n)} - negl(n) \\geq 0$ holds for sufficiently high $n$"
   ]
  },
  {
   "cell_type": "markdown",
   "id": "09979535",
   "metadata": {},
   "source": [
    "3 - Bad Primes for Discrete Log\n",
    "======================="
   ]
  },
  {
   "cell_type": "markdown",
   "id": "96c91b2b",
   "metadata": {},
   "source": [
    "Answers:"
   ]
  },
  {
   "cell_type": "markdown",
   "id": "c845fca2",
   "metadata": {},
   "source": [
    "1. Given we have $p, y=g^x$ we can calculate $y^{\\frac{p-1}{2}}$.<br>\n",
    "If the result of this is $e$, we return $LSB(x) = 0$.<br>\n",
    "Otherwise we return $LSB(x) = 1$.<br><br>\n",
    "This holds because if $x$ is even, i.e. for some $n \\in \\mathbb{N}$ : $x = 2n$ then:<br>\n",
    "$$y^{\\frac{p-1}{2}} = {g^x}^{\\frac{p-1}{2}} = g^{2n\\frac{p-1}{2}} = g^{n(p-1)} = g^{n \\cdot ord(\\mathbb{Z}^{*}_p)} = e$$\n",
    "And if we get $y^{\\frac{p-1}{2}} = e$ then ${g^x}^{\\frac{p-1}{2}} = e$ then for some $m\\in \\mathbb{N}$ it must hold that:<br>\n",
    "$x\\frac{p-1}{2} = m\\cdot ord(\\mathbb{Z}^{*}_p)$<br>\n",
    "$\\Rightarrow x(p-1) = 2m(p-1)$<br>\n",
    "$\\Rightarrow x = 2m$<br><br>\n",
    "Overall Ive shown:  $x$ is even $\\iff$ $y^{\\frac{p-1}{2}} = e$.<br>\n",
    "And so the algorithm is correct."
   ]
  },
  {
   "cell_type": "markdown",
   "id": "d8649952",
   "metadata": {},
   "source": [
    "2. $ord(\\mathbb{Z}^{*}_p) = 2^k$ so $0 \\leq x \\leq 2^k$.<br>\n",
    "If $k < 2$ then $x$ can be encoded by one bit which we already got.<br>\n",
    "Else, notice that the second LSB of $x$ is $LSB(\\frac{x}{2})$.<br>\n",
    "Compute:<br>\n",
    "$y^{\\frac{p-1}{4}} = g^{\\frac{x}{2} \\cdot \\frac{p-1}{2}}$<br>\n",
    "Exactly by the proof in (1): $\\frac{x}{2}$ is even if and only if the result of this computation is $e$.<br>\n",
    "So the second LSB of $x$ is 0 $\\iff$ the result is 0.\n",
    "\n"
   ]
  },
  {
   "cell_type": "markdown",
   "id": "be4a55e4",
   "metadata": {},
   "source": [
    "3. Given $y$ we compute $LSB(x)$ like in (1).<br>\n",
    "Then if $x$ is even we compute $LSB(\\frac{x}{2})$ to get the second LSB (like in 1).<br>\n",
    "Or if $x$ is odd we compute $LSB(\\frac{x-1}{2})$ to get the second LSB.$(*)$<br><br>\n",
    "Explaination of $(*)$: $LSB(\\frac{x-1}{2})$ is computed by computing $(y \\cdot g^{p-2})^{\\frac{p-1}{4}}$.<br>\n",
    "If the result is $e$ then $LSB(\\frac{x-1}{2}) = 0$, otherwise 1.\n",
    "$$(y \\cdot g^{p-2})^{\\frac{p-1}{4}} = (g^{x + p-2})^{\\frac{p-1}{4}} = (g^{x-1 + p-1})^{\\frac{p-1}{4}} = (g^{x-1})^{\\frac{p-1}{4}} = e \\iff LSB(\\frac{x-1}{2}) = 0 $$<br><br>\n",
    "We continue these steps iterativly to compute $x$:"
   ]
  },
  {
   "cell_type": "code",
   "execution_count": null,
   "id": "ee834cc4",
   "metadata": {},
   "outputs": [],
   "source": [
    "def bad_prime_log(y,p,k,g):\n",
    "    assert(p = 2**k + 1)\n",
    "    x = 0\n",
    "    for i in range(k):\n",
    "        if not y**( (p-1) / (2 * 2**i) ) == 0:\n",
    "            x = x + 2**i\n",
    "            y = y * g**(p-2)\n",
    "    return x"
   ]
  },
  {
   "cell_type": "markdown",
   "id": "c18799b8",
   "metadata": {},
   "source": [
    "4 - Information Theoretic MAC\n",
    "======================="
   ]
  },
  {
   "cell_type": "markdown",
   "id": "d9b3ed87",
   "metadata": {},
   "source": [
    "<b> 4.1 Naive Adversary"
   ]
  },
  {
   "cell_type": "markdown",
   "id": "41e9fdad",
   "metadata": {},
   "source": [
    "Answer:<br><br>\n",
    "$A$ chooses random $m \\in_R \\{0,1\\}^n$<br>\n",
    "and random tag $a \\in_R \\{0,1\\}^t$<br>\n",
    "Given some message $m$, $m$ has some valid tag $MAC_k(m)$.<br>\n",
    "So $m$ has at least 1 valid tag.<br>\n",
    "Assuming $M \\sim U_n \\rightarrow MAC_k(M) \\sim U_n$ then $A$ succeeds with probability $2^{-t}$\n"
   ]
  },
  {
   "cell_type": "markdown",
   "id": "df5bd5ab",
   "metadata": {},
   "source": [
    "<b> 4.2 Pairwise Independent Hashing"
   ]
  },
  {
   "cell_type": "markdown",
   "id": "ec363937",
   "metadata": {},
   "source": [
    "Denote $H = \\{ h_{a,b}: \\mathbb{F} \\rightarrow \\mathbb{F}\\}_{a,b \\in \\mathbb{F}}$ (the collection mentioned)<br>\n",
    "Let there be $x_1,x_2,y_1,y_2 \\in \\mathbb{F}$<br><br>\n",
    "$Pr_{h \\leftarrow H}[h(x_1) = y_1 \\text{ and } h(x_2) = y_2] =$<br>\n",
    "$Pr_{a \\leftarrow \\mathbb{F}, b \\leftarrow \\mathbb{F}}[h_{a,b}(x_1) = y_1 \\text{ and } h_{a,b}(x_2) = y_2] = $<br>\n",
    "$Pr_{a \\leftarrow \\mathbb{F}, b \\leftarrow \\mathbb{F}}[a \\cdot x_1 + b = y_1 \\text{ and } a \\cdot x_2 + b = y_2] =^{(*)} $<br>\n",
    "$Pr_{a \\leftarrow \\mathbb{F}}[a \\cdot x_1 = y_1 \\text{ and } a \\cdot x_2 = y_2] =^{(**)}$<br>\n",
    "$Pr[x_1 = y_1 \\text{ and } x_2 = y_2] = \\frac{1}{2^m} \\cdot \\frac{1}{2^m} = 2^{-2m} \\Rightarrow H$ is pairwise independent.<br><br>\n",
    "Explanation $(*)$:<br>\n",
    "If $b$ is choosen at random from $\\mathbb{F}$ then given some $x$, I claim that every $y$ is equally probable to be $x + b$.<br>\n",
    "Denote random variable $B \\sim uniform(\\mathbb{F}), x \\in \\mathbb{F}$.<br>\n",
    "Want to prove $x + B \\sim uniform(\\mathbb{F})$.\n",
    "That is true because:<br>\n",
    "$$\\{x + b | b \\in \\mathbb{F}\\} = \\{x -x + b | b - x \\in \\mathbb{F}\\} = \\{b | b - x \\in \\mathbb{F}\\} = \\mathbb{F}$$\n",
    "Explanation $(**)$:<br>\n",
    "If $a$ is choosen at random from $\\mathbb{F}$ then given some $x$, I claim that every $y$ is equally probable to be $a \\cdot x$.<br>\n",
    "Denote random variable $A \\sim uniform(\\mathbb{F}), x \\in \\mathbb{F}$.<br>\n",
    "Want to prove $A \\cdot x \\sim uniform(\\mathbb{F})$.\n",
    "That is true because:<br>\n",
    "$$\\{a \\cdot x | a \\in \\mathbb{F}\\} = \\{ a \\cdot x^{-1} \\cdot x | a \\cdot x^{-1} \\in \\mathbb{F}\\} = \\{a | a \\cdot x^{-1} \\in \\mathbb{F}\\} = \\mathbb{F}$$<br><br>\n",
    "Now assume $|\\mathbb{F}_1| = 2^n, |\\mathbb{F}_1| = 2^m, n \\leq m$<br>\n",
    "We saw $H = \\{ h_{a,b}: \\mathbb{F} \\rightarrow \\mathbb{F}\\}_{a,b \\in \\mathbb{F}}$ is pairwise independent\n",
    "(with functions of the form : $h : \\mathbb{F}_1 \\rightarrow \\mathbb{F}_1$).<br>\n",
    "To generalize to $h : \\mathbb{F}_1 \\rightarrow \\mathbb{F}_2$ we use some function $ f  : \\mathbb{F}_1 \\rightarrow \\mathbb{F}_2$ such that every $y \\in \\mathbb{F}_2$ has exactly $2^{n-m}$ sources.<br>\n",
    "Then $H' = \\{ h_{a,b}(x): a \\cdot f(x) + b\\}_{a,b \\in \\mathbb{F}_2}$ is pairwise independent."
   ]
  },
  {
   "cell_type": "markdown",
   "id": "29436d0e",
   "metadata": {},
   "source": [
    "<b> 4.3 One-Time MAC"
   ]
  },
  {
   "cell_type": "markdown",
   "id": "85164305",
   "metadata": {},
   "source": [
    "Assume the messages are the members of te field $\\mathbb{F}_1$ s.t. $\\mathbb{F}_1$ is the finite field of size $2^n$.<br>\n",
    "Assume keys are $k = k_1 \\cdot k_2$ where $k_1, k_2 \\in \\mathbb{F}_2$.<br>\n",
    "When $\\mathbb{F}_2$ is the finite field of size $2^t$.<br>\n",
    "Let $ f  : \\mathbb{F}_1 \\rightarrow \\mathbb{F}_2$ be some function that for every $y$ there are exactly $2^{n-t}$ sources.<br>\n",
    "<br>\n",
    "$MAC_k(m) = k_1 \\cdot f(m) + k_2$<br><br>\n",
    "Let $A$ be some adversary.<br>\n",
    "From the fact that $\\{MAC_k()\\}_k$ is pairwise independent: $\\forall x_1,x2 \\in \\mathbb{F}_1, \\forall y_1,y_2 \\in \\mathbb{F}_2$:<br> <br>\n",
    "$$Pr_{k \\leftarrow K}[MAC_k(x_1) = y_1 \\text{ and } MAC_k(x_2) = y_2] = 2^{-2m}$$\n",
    "So $\\forall x \\in \\mathbb{F}_1, \\forall y \\in \\mathbb{F}_2$:<br>\n",
    "$Pr_{k \\leftarrow K}[MAC_k(m) = t \\text{ and } MAC_k(x) = y | MAC_k(m) = t]$<br>\n",
    "$= Pr_{k \\leftarrow K}[MAC_k(x) = y] = \\frac{2^{-2t}}{2^{-t}} = 2^{-t}$<br><br>\n",
    "So there is no information in the fact that $MAC_k(m) = t$ and so the best chance $A$ has is to guess , i.e. $2^{-t}$."
   ]
  },
  {
   "cell_type": "code",
   "execution_count": null,
   "id": "3082a0c9",
   "metadata": {},
   "outputs": [],
   "source": []
  }
 ],
 "metadata": {
  "kernelspec": {
   "display_name": "Python 3 (ipykernel)",
   "language": "python",
   "name": "python3"
  },
  "language_info": {
   "codemirror_mode": {
    "name": "ipython",
    "version": 3
   },
   "file_extension": ".py",
   "mimetype": "text/x-python",
   "name": "python",
   "nbconvert_exporter": "python",
   "pygments_lexer": "ipython3",
   "version": "3.11.0"
  }
 },
 "nbformat": 4,
 "nbformat_minor": 5
}
