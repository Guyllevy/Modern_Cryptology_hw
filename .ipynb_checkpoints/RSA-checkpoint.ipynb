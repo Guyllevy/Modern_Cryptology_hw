{
 "cells": [
  {
   "cell_type": "code",
   "execution_count": 10,
   "id": "4d2ebf1c",
   "metadata": {},
   "outputs": [],
   "source": [
    "import math\n",
    "\n",
    "def is_prime(P):\n",
    "    if P < 2:\n",
    "        return False\n",
    "    if P == 2:\n",
    "        return True\n",
    "    for i in range(2,math.ceil(math.sqrt(P))+1):\n",
    "        if P % i == 0:\n",
    "            return False\n",
    "    return True\n",
    "\n",
    "def coprimes(N):\n",
    "    assert N >= 2\n",
    "    cp = [1]\n",
    "    for i in range(2,N):\n",
    "        if math.gcd(i,N) == 1:\n",
    "            cp.append(i)\n",
    "    return cp\n",
    "\n",
    "def phi(N):\n",
    "    return len(coprimes(N))"
   ]
  },
  {
   "cell_type": "code",
   "execution_count": 11,
   "id": "da66d558",
   "metadata": {},
   "outputs": [],
   "source": [
    "P, Q = 20807, 32573\n",
    "N = P*Q\n",
    "# what is phi of N? all the numbers below N are coprime to N unless P or Q divides them.\n",
    "# who divides P?\n",
    "# P, 2P, ... , (Q-1)P -> Q - 1 such numbers\n",
    "# who divides Q?\n",
    "# Q, 2Q, ... , (P-1)Q -> P - 1 such numbers\n",
    "# so phi(N) = N - 1 - (Q-1) - (P-1) = PQ -Q -P +1 = (P-1)(Q-1)"
   ]
  },
  {
   "cell_type": "code",
   "execution_count": null,
   "id": "09f37400",
   "metadata": {},
   "outputs": [],
   "source": [
    "phi(N)"
   ]
  },
  {
   "cell_type": "code",
   "execution_count": null,
   "id": "dcfeb781",
   "metadata": {},
   "outputs": [],
   "source": [
    "# PHI\n",
    "10 [1,3,7,9]"
   ]
  }
 ],
 "metadata": {
  "kernelspec": {
   "display_name": "Python 3 (ipykernel)",
   "language": "python",
   "name": "python3"
  },
  "language_info": {
   "codemirror_mode": {
    "name": "ipython",
    "version": 3
   },
   "file_extension": ".py",
   "mimetype": "text/x-python",
   "name": "python",
   "nbconvert_exporter": "python",
   "pygments_lexer": "ipython3",
   "version": "3.11.0"
  }
 },
 "nbformat": 4,
 "nbformat_minor": 5
}
