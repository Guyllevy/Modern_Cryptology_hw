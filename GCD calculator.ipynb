{
 "cells": [
  {
   "cell_type": "code",
   "execution_count": 50,
   "id": "6ef628ea",
   "metadata": {},
   "outputs": [],
   "source": [
    "def gcd(a,b):\n",
    "    \"\"\"     given a,b computes their gcd and x,y such that a*x + b*y = gcd. \n",
    "    returns those in the form of a tuple (gcd,x,y)    \"\"\"\n",
    "    if a == b:\n",
    "        return (a,1,0)\n",
    "    elif a < b:\n",
    "        return gcd(b,a)\n",
    "    a0,b0 = a,b\n",
    "    if b == 0:\n",
    "        return (a,1,0)\n",
    "    if a % b == 0:\n",
    "        return (b,0,1)\n",
    "    \n",
    "    As, Bs = [a], [b]\n",
    "    Rs, Ds = [], [] # remainders, multipliers\n",
    "    \n",
    "    lastR = None\n",
    "    while lastR != 0:     # a = d*b + r ==> (a,b) = (b,r)\n",
    "        Rs.append(a % b) ; Ds.append(a // b)\n",
    "        lastR = Rs[-1]\n",
    "        As.append(b)     ; Bs.append(lastR)\n",
    "        a, b = As[-1], Bs[-1]\n",
    "    gcd = As[-1]\n",
    "    \n",
    "    Ds.pop()\n",
    "    y, x = 1, -Ds.pop() \n",
    "    for i in range(len(Ds)):\n",
    "        if i%2 == 0:\n",
    "            y = y - x*Ds[-1-i]\n",
    "        else:\n",
    "            x = x - y*Ds[-1-i]\n",
    "    if a0*x + b0*y == gcd:\n",
    "        return (gcd,x,y)\n",
    "    return (gcd,y,x)"
   ]
  },
  {
   "cell_type": "code",
   "execution_count": 51,
   "id": "fd48d2b6",
   "metadata": {},
   "outputs": [],
   "source": [
    "import random"
   ]
  },
  {
   "cell_type": "code",
   "execution_count": 52,
   "id": "fc7abe47",
   "metadata": {},
   "outputs": [],
   "source": [
    "for i in range(10):\n",
    "    a,b = random.randint(0,1000), random.randint(0,1000)\n",
    "    if (a < b):\n",
    "        a,b = b,a\n",
    "    g,x,y = gcd(a,b)\n",
    "    if (g == x*a + y*b) == False:\n",
    "        print(g,x,y,a,b,False)\n",
    "\n"
   ]
  },
  {
   "cell_type": "code",
   "execution_count": 4,
   "id": "9478f403",
   "metadata": {},
   "outputs": [],
   "source": [
    "# worst case time of the algoritm? log(N) where N is max(a,b)"
   ]
  },
  {
   "cell_type": "code",
   "execution_count": 58,
   "id": "ecb49815",
   "metadata": {},
   "outputs": [],
   "source": [
    "# Efficient g^x\n",
    "class Group:\n",
    "    def __init__(self, op):\n",
    "        self.identity = 1\n",
    "        self.op = op\n",
    "    def operation(self,a,b):\n",
    "        return self.op(a,b)\n",
    "G = Group(lambda a,b: a*b)"
   ]
  },
  {
   "cell_type": "code",
   "execution_count": 59,
   "id": "0ff9c2cd",
   "metadata": {},
   "outputs": [],
   "source": [
    "def g_exp_x(G,g,x):\n",
    "    if x == 0:\n",
    "        return G.identity\n",
    "    if x == 1:\n",
    "        return g\n",
    "    return G.operation( g_exp_x(G,G.operation(g,g), x//2), g if x%2 else G.identity )"
   ]
  },
  {
   "cell_type": "code",
   "execution_count": 60,
   "id": "e9daa361",
   "metadata": {},
   "outputs": [
    {
     "name": "stdout",
     "output_type": "stream",
     "text": [
      "1024\n"
     ]
    }
   ],
   "source": [
    "print(g_exp_x(G,2,10))"
   ]
  },
  {
   "cell_type": "code",
   "execution_count": null,
   "id": "de6f91f7",
   "metadata": {},
   "outputs": [],
   "source": []
  }
 ],
 "metadata": {
  "kernelspec": {
   "display_name": "Python 3 (ipykernel)",
   "language": "python",
   "name": "python3"
  },
  "language_info": {
   "codemirror_mode": {
    "name": "ipython",
    "version": 3
   },
   "file_extension": ".py",
   "mimetype": "text/x-python",
   "name": "python",
   "nbconvert_exporter": "python",
   "pygments_lexer": "ipython3",
   "version": "3.11.0"
  }
 },
 "nbformat": 4,
 "nbformat_minor": 5
}
